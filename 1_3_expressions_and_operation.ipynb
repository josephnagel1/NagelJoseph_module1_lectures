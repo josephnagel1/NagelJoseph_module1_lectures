{
  "cells": [
    {
      "cell_type": "markdown",
      "metadata": {
        "id": "view-in-github",
        "colab_type": "text"
      },
      "source": [
        "<a href=\"https://colab.research.google.com/github/josephnagel1/NagelJoseph_module1_lectures/blob/main/1_3_expressions_and_operation.ipynb\" target=\"_parent\"><img src=\"https://colab.research.google.com/assets/colab-badge.svg\" alt=\"Open In Colab\"/></a>"
      ]
    },
    {
      "cell_type": "markdown",
      "metadata": {
        "nbpresent": {
          "id": "72b0ede6-af2b-41e9-81af-16c345e658d3"
        },
        "id": "V4CzDx1B2UNN"
      },
      "source": [
        "# Expressions and Functions\n",
        "\n",
        "## Objectives\n",
        "\n",
        "1. Introduce basic Python expressions for transforming data\n",
        "    1. Arithmetic\n",
        "    2. Boolean\n",
        "2. Use the conditional expression for situational expressions"
      ]
    },
    {
      "cell_type": "markdown",
      "metadata": {
        "nbpresent": {
          "id": "d6ce38da-dd5e-49ae-96d9-a13b7c588c7f"
        },
        "id": "G64-YSfc2UNV"
      },
      "source": [
        "## Expressions and Statements\n",
        "\n",
        "* Two types of Python code\n",
        "* **statements** \"Do this\"\n",
        "    * Does not return/evaluate to a value\n",
        "    * Often contain expressions\n",
        "* **expressions** \"Compute this value\"\n",
        "    * Allows returns data\n",
        "* I prefer expressions"
      ]
    },
    {
      "cell_type": "code",
      "execution_count": null,
      "metadata": {
        "nbpresent": {
          "id": "3394c082-f660-4228-8b52-a46f2e9c02de"
        },
        "id": "bUPQeEGZ2UNY",
        "outputId": "52868b60-e1a8-4189-837c-7a5425688f1d"
      },
      "outputs": [
        {
          "data": {
            "text/plain": [
              "6"
            ]
          },
          "execution_count": 1,
          "metadata": {},
          "output_type": "execute_result"
        }
      ],
      "source": [
        "sum([1,2,3]) # expression (returns 6)"
      ]
    },
    {
      "cell_type": "code",
      "execution_count": 9,
      "metadata": {
        "nbpresent": {
          "id": "348801b9-66cf-4248-81c6-32b52ca127e8"
        },
        "id": "hKQe_vD92UNa"
      },
      "outputs": [],
      "source": [
        "x = sum([1,2,3]) # assignment statement (no value)"
      ]
    },
    {
      "cell_type": "code",
      "execution_count": 10,
      "metadata": {
        "nbpresent": {
          "id": "5b62bd9c-ca01-40c1-9913-e2c73f9188f6"
        },
        "id": "0ieei3mv2UNb",
        "outputId": "878380a5-a0a5-4696-95d1-548562467117",
        "colab": {
          "base_uri": "https://localhost:8080/"
        }
      },
      "outputs": [
        {
          "output_type": "execute_result",
          "data": {
            "text/plain": [
              "6"
            ]
          },
          "metadata": {},
          "execution_count": 10
        }
      ],
      "source": [
        "x # Expression (returns value assigned to x)"
      ]
    },
    {
      "cell_type": "markdown",
      "metadata": {
        "nbpresent": {
          "id": "277549e7-ddfe-439c-b7dc-4e257ff97426"
        },
        "id": "n2NGXiAr2UNd"
      },
      "source": [
        "## Arithmetic operations"
      ]
    },
    {
      "cell_type": "code",
      "execution_count": null,
      "metadata": {
        "nbpresent": {
          "id": "de77acd8-a6ab-4026-9378-05a77c73ed46"
        },
        "id": "Y5spBdbq2UNe",
        "outputId": "21989c29-65b6-491d-90d6-a38b7052eb0d"
      },
      "outputs": [
        {
          "data": {
            "text/plain": [
              "5.5"
            ]
          },
          "execution_count": 5,
          "metadata": {},
          "output_type": "execute_result"
        }
      ],
      "source": [
        "2 + 3.5"
      ]
    },
    {
      "cell_type": "code",
      "execution_count": null,
      "metadata": {
        "nbpresent": {
          "id": "9b572828-abc5-4f12-9f11-d444f1488019"
        },
        "id": "upFqX6UH2UNe",
        "outputId": "95e6326c-18c1-44f2-c795-c7ea4bf7b72b"
      },
      "outputs": [
        {
          "data": {
            "text/plain": [
              "-1.5"
            ]
          },
          "execution_count": 6,
          "metadata": {},
          "output_type": "execute_result"
        }
      ],
      "source": [
        "2 - 3.5 "
      ]
    },
    {
      "cell_type": "code",
      "execution_count": null,
      "metadata": {
        "nbpresent": {
          "id": "f14f2894-1b57-4dec-8eaf-72364fb0ec22"
        },
        "id": "Hg7_8vcL2UNg",
        "outputId": "1f4b2592-b419-494f-8214-15d6628ca428"
      },
      "outputs": [
        {
          "data": {
            "text/plain": [
              "7.0"
            ]
          },
          "execution_count": 7,
          "metadata": {},
          "output_type": "execute_result"
        }
      ],
      "source": [
        "2*3.5"
      ]
    },
    {
      "cell_type": "code",
      "execution_count": null,
      "metadata": {
        "nbpresent": {
          "id": "0283e446-51ff-49c6-95c1-7df0331373e8"
        },
        "id": "EgIRvg5T2UNj",
        "outputId": "f6f62d8d-696c-41d4-e3a9-2dd2cfc01bed"
      },
      "outputs": [
        {
          "data": {
            "text/plain": [
              "0.6666666666666666"
            ]
          },
          "execution_count": 9,
          "metadata": {},
          "output_type": "execute_result"
        }
      ],
      "source": [
        "2/3 # True division"
      ]
    },
    {
      "cell_type": "code",
      "execution_count": null,
      "metadata": {
        "nbpresent": {
          "id": "1cbfb777-d4fa-4364-8b4d-7316398849d2"
        },
        "id": "BuECwOTM2UNj",
        "outputId": "da1de486-e361-4083-a9ef-cd8927265b90"
      },
      "outputs": [
        {
          "data": {
            "text/plain": [
              "3"
            ]
          },
          "execution_count": 10,
          "metadata": {},
          "output_type": "execute_result"
        }
      ],
      "source": [
        "10//3 # Integeer division"
      ]
    },
    {
      "cell_type": "code",
      "execution_count": null,
      "metadata": {
        "nbpresent": {
          "id": "5eb71879-541d-4d2f-8d0b-03b1936784be"
        },
        "id": "2zrVVhsw2UNk",
        "outputId": "f6212f89-46a0-4920-f33d-27ccf8b917b1"
      },
      "outputs": [
        {
          "data": {
            "text/plain": [
              "1"
            ]
          },
          "execution_count": 12,
          "metadata": {},
          "output_type": "execute_result"
        }
      ],
      "source": [
        "10 % 3 # Mod/remainder"
      ]
    },
    {
      "cell_type": "code",
      "execution_count": null,
      "metadata": {
        "nbpresent": {
          "id": "d2f5f5a1-1f01-4036-8bdb-c9dd4f3a6999"
        },
        "id": "Xjw2HXoC2UNl",
        "outputId": "e3c6cdba-6c79-4ff0-9604-ef9879143681"
      },
      "outputs": [
        {
          "data": {
            "text/plain": [
              "8"
            ]
          },
          "execution_count": 15,
          "metadata": {},
          "output_type": "execute_result"
        }
      ],
      "source": [
        "2 ** 3 # Powers!"
      ]
    },
    {
      "cell_type": "code",
      "execution_count": null,
      "metadata": {
        "nbpresent": {
          "id": "f79150cf-6794-48bb-b703-eb963b40cc06"
        },
        "id": "MY-4Xaha2UNm",
        "outputId": "661b7545-b26d-49a5-fb4c-652ebefd3d93"
      },
      "outputs": [
        {
          "data": {
            "text/plain": [
              "1"
            ]
          },
          "execution_count": 18,
          "metadata": {},
          "output_type": "execute_result"
        }
      ],
      "source": [
        "2 ^ 3 # BEWARE: bitwise exclusive or"
      ]
    },
    {
      "cell_type": "markdown",
      "metadata": {
        "id": "8RBt_cgY2UNn"
      },
      "source": [
        "<font color=\"red\"><h2>Exercise 1.3.1 </h2></font>\n",
        "\n",
        "The hour hand is pointing at 8, what will it point to in 57 hours?"
      ]
    },
    {
      "cell_type": "code",
      "execution_count": 8,
      "metadata": {
        "id": "Xer2oR9L2UNn",
        "outputId": "2e198507-691b-4426-a1a3-a2bedf1d4f5b",
        "colab": {
          "base_uri": "https://localhost:8080/"
        }
      },
      "outputs": [
        {
          "output_type": "execute_result",
          "data": {
            "text/plain": [
              "5"
            ]
          },
          "metadata": {},
          "execution_count": 8
        }
      ],
      "source": [
        "(8 + 57) % 12"
      ]
    },
    {
      "cell_type": "markdown",
      "metadata": {
        "nbpresent": {
          "id": "a9702cc1-1da0-4d6b-8198-835ac55fd9eb"
        },
        "id": "JwGpe7RJ2UNo"
      },
      "source": [
        "### <font color=\"red\"> Exercise 1.3.2</font>\n",
        "Investigate which operations can be applied to two strings, say `\"a\"` and `\"b\"`.\n"
      ]
    },
    {
      "cell_type": "code",
      "execution_count": 4,
      "metadata": {
        "collapsed": true,
        "nbpresent": {
          "id": "78a2f194-f4ff-466a-8921-7012b6d551b0"
        },
        "id": "Fwbf7JM22UNp"
      },
      "outputs": [],
      "source": [
        "a = \"hello\"\n",
        "b = \"world\""
      ]
    },
    {
      "cell_type": "code",
      "source": [
        "a + b"
      ],
      "metadata": {
        "id": "c320Emxd87sP",
        "outputId": "66f5afd9-09ca-4acb-b6ef-cf5b6e867918",
        "colab": {
          "base_uri": "https://localhost:8080/",
          "height": 35
        }
      },
      "execution_count": 10,
      "outputs": [
        {
          "output_type": "execute_result",
          "data": {
            "text/plain": [
              "'helloworld'"
            ],
            "application/vnd.google.colaboratory.intrinsic+json": {
              "type": "string"
            }
          },
          "metadata": {},
          "execution_count": 10
        }
      ]
    },
    {
      "cell_type": "code",
      "source": [
        "a * b"
      ],
      "metadata": {
        "id": "d3ErBEyJ8-Sf",
        "outputId": "0ad228de-03ed-4ac2-d811-7cd33ac44b97",
        "colab": {
          "base_uri": "https://localhost:8080/",
          "height": 169
        }
      },
      "execution_count": 11,
      "outputs": [
        {
          "output_type": "error",
          "ename": "TypeError",
          "evalue": "ignored",
          "traceback": [
            "\u001b[0;31m---------------------------------------------------------------------------\u001b[0m",
            "\u001b[0;31mTypeError\u001b[0m                                 Traceback (most recent call last)",
            "\u001b[0;32m<ipython-input-11-9bc1a869709f>\u001b[0m in \u001b[0;36m<module>\u001b[0;34m\u001b[0m\n\u001b[0;32m----> 1\u001b[0;31m \u001b[0ma\u001b[0m \u001b[0;34m*\u001b[0m \u001b[0mb\u001b[0m\u001b[0;34m\u001b[0m\u001b[0;34m\u001b[0m\u001b[0m\n\u001b[0m",
            "\u001b[0;31mTypeError\u001b[0m: can't multiply sequence by non-int of type 'str'"
          ]
        }
      ]
    },
    {
      "cell_type": "code",
      "source": [
        "a / b"
      ],
      "metadata": {
        "id": "OFL077j09es0",
        "outputId": "5e460908-e5ca-4dcd-df91-bd64be23c385",
        "colab": {
          "base_uri": "https://localhost:8080/",
          "height": 169
        }
      },
      "execution_count": 17,
      "outputs": [
        {
          "output_type": "error",
          "ename": "TypeError",
          "evalue": "ignored",
          "traceback": [
            "\u001b[0;31m---------------------------------------------------------------------------\u001b[0m",
            "\u001b[0;31mTypeError\u001b[0m                                 Traceback (most recent call last)",
            "\u001b[0;32m<ipython-input-17-d8e10abd5ab6>\u001b[0m in \u001b[0;36m<module>\u001b[0;34m\u001b[0m\n\u001b[0;32m----> 1\u001b[0;31m \u001b[0ma\u001b[0m \u001b[0;34m/\u001b[0m \u001b[0mb\u001b[0m\u001b[0;34m\u001b[0m\u001b[0;34m\u001b[0m\u001b[0m\n\u001b[0m",
            "\u001b[0;31mTypeError\u001b[0m: unsupported operand type(s) for /: 'str' and 'str'"
          ]
        }
      ]
    },
    {
      "cell_type": "code",
      "source": [
        "a == b"
      ],
      "metadata": {
        "id": "u6Z-GaVK9ATS",
        "outputId": "11f20e1e-1e97-4d80-9e3a-fb7c73ed77b3",
        "colab": {
          "base_uri": "https://localhost:8080/"
        }
      },
      "execution_count": 14,
      "outputs": [
        {
          "output_type": "execute_result",
          "data": {
            "text/plain": [
              "False"
            ]
          },
          "metadata": {},
          "execution_count": 14
        }
      ]
    },
    {
      "cell_type": "code",
      "source": [
        "sum([a,b])"
      ],
      "metadata": {
        "id": "ksTFt8d79DyQ",
        "outputId": "f63f4e5d-d0d7-4555-fd06-a8ac05527460",
        "colab": {
          "base_uri": "https://localhost:8080/",
          "height": 169
        }
      },
      "execution_count": 16,
      "outputs": [
        {
          "output_type": "error",
          "ename": "TypeError",
          "evalue": "ignored",
          "traceback": [
            "\u001b[0;31m---------------------------------------------------------------------------\u001b[0m",
            "\u001b[0;31mTypeError\u001b[0m                                 Traceback (most recent call last)",
            "\u001b[0;32m<ipython-input-16-d711a06190ce>\u001b[0m in \u001b[0;36m<module>\u001b[0;34m\u001b[0m\n\u001b[0;32m----> 1\u001b[0;31m \u001b[0msum\u001b[0m\u001b[0;34m(\u001b[0m\u001b[0;34m[\u001b[0m\u001b[0ma\u001b[0m\u001b[0;34m,\u001b[0m\u001b[0mb\u001b[0m\u001b[0;34m]\u001b[0m\u001b[0;34m)\u001b[0m\u001b[0;34m\u001b[0m\u001b[0;34m\u001b[0m\u001b[0m\n\u001b[0m",
            "\u001b[0;31mTypeError\u001b[0m: unsupported operand type(s) for +: 'int' and 'str'"
          ]
        }
      ]
    },
    {
      "cell_type": "markdown",
      "metadata": {
        "nbpresent": {
          "id": "2812ca09-3cd1-43c1-aefd-05fbea612c57"
        },
        "id": "9ju8LqbD2UNp"
      },
      "source": [
        "### <font color=\"red\"> Exercise 1.3.3 </font>\n",
        "\n",
        "Investigate various operations on `2` and `\"a\"`"
      ]
    },
    {
      "cell_type": "code",
      "execution_count": 5,
      "metadata": {
        "nbpresent": {
          "id": "c5667754-7de7-401f-989b-88c209c6ea82"
        },
        "id": "WjcVjEWk2UNq",
        "outputId": "5f779a41-6459-439a-cbff-6739aa8f6923",
        "colab": {
          "base_uri": "https://localhost:8080/",
          "height": 169
        }
      },
      "outputs": [
        {
          "output_type": "error",
          "ename": "TypeError",
          "evalue": "ignored",
          "traceback": [
            "\u001b[0;31m---------------------------------------------------------------------------\u001b[0m",
            "\u001b[0;31mTypeError\u001b[0m                                 Traceback (most recent call last)",
            "\u001b[0;32m<ipython-input-5-a20a24048787>\u001b[0m in \u001b[0;36m<module>\u001b[0;34m\u001b[0m\n\u001b[0;32m----> 1\u001b[0;31m \u001b[0;36m2\u001b[0m \u001b[0;34m+\u001b[0m \u001b[0ma\u001b[0m\u001b[0;34m\u001b[0m\u001b[0;34m\u001b[0m\u001b[0m\n\u001b[0m",
            "\u001b[0;31mTypeError\u001b[0m: unsupported operand type(s) for +: 'int' and 'str'"
          ]
        }
      ],
      "source": [
        "2 + a"
      ]
    },
    {
      "cell_type": "code",
      "source": [
        "2 / a"
      ],
      "metadata": {
        "id": "CRtbVKsQSMpG",
        "outputId": "d105a7d2-23d6-4e61-bab0-1ab34c3fd38a",
        "colab": {
          "base_uri": "https://localhost:8080/",
          "height": 169
        }
      },
      "execution_count": 6,
      "outputs": [
        {
          "output_type": "error",
          "ename": "TypeError",
          "evalue": "ignored",
          "traceback": [
            "\u001b[0;31m---------------------------------------------------------------------------\u001b[0m",
            "\u001b[0;31mTypeError\u001b[0m                                 Traceback (most recent call last)",
            "\u001b[0;32m<ipython-input-6-2f2d840ed90a>\u001b[0m in \u001b[0;36m<module>\u001b[0;34m\u001b[0m\n\u001b[0;32m----> 1\u001b[0;31m \u001b[0;36m2\u001b[0m \u001b[0;34m/\u001b[0m \u001b[0ma\u001b[0m\u001b[0;34m\u001b[0m\u001b[0;34m\u001b[0m\u001b[0m\n\u001b[0m",
            "\u001b[0;31mTypeError\u001b[0m: unsupported operand type(s) for /: 'int' and 'str'"
          ]
        }
      ]
    },
    {
      "cell_type": "code",
      "source": [
        "2 % a"
      ],
      "metadata": {
        "id": "L1miCwp3SOFq",
        "outputId": "cedd944d-cf50-4dfd-d89c-352263dabaf4",
        "colab": {
          "base_uri": "https://localhost:8080/",
          "height": 169
        }
      },
      "execution_count": 7,
      "outputs": [
        {
          "output_type": "error",
          "ename": "TypeError",
          "evalue": "ignored",
          "traceback": [
            "\u001b[0;31m---------------------------------------------------------------------------\u001b[0m",
            "\u001b[0;31mTypeError\u001b[0m                                 Traceback (most recent call last)",
            "\u001b[0;32m<ipython-input-7-81eb8edcba2f>\u001b[0m in \u001b[0;36m<module>\u001b[0;34m\u001b[0m\n\u001b[0;32m----> 1\u001b[0;31m \u001b[0;36m2\u001b[0m \u001b[0;34m%\u001b[0m \u001b[0ma\u001b[0m\u001b[0;34m\u001b[0m\u001b[0;34m\u001b[0m\u001b[0m\n\u001b[0m",
            "\u001b[0;31mTypeError\u001b[0m: unsupported operand type(s) for %: 'int' and 'str'"
          ]
        }
      ]
    },
    {
      "cell_type": "markdown",
      "metadata": {
        "nbpresent": {
          "id": "451809fa-bae8-406f-8485-e14666da2f9c"
        },
        "id": "YpKvLx9b2UNq"
      },
      "source": [
        "## Boolean operations\n",
        "\n",
        "- **Boolean expressions** evaluate to True or False\n",
        "- **Boolean operations** answer Yes/No questions"
      ]
    },
    {
      "cell_type": "markdown",
      "metadata": {
        "nbpresent": {
          "id": "a7d93c7f-e613-436d-8ea2-f8eabf37aca1"
        },
        "id": "e6qKTn5X2UNr"
      },
      "source": [
        "## Comparison operators"
      ]
    },
    {
      "cell_type": "code",
      "execution_count": null,
      "metadata": {
        "nbpresent": {
          "id": "9ba65652-2b58-4adc-bb1b-ca556743e198"
        },
        "id": "8V6fpBoo2UNr",
        "outputId": "7a59f328-2bf9-4769-f079-5a56b2b42d70"
      },
      "outputs": [
        {
          "data": {
            "text/plain": [
              "(False, True, True, True)"
            ]
          },
          "execution_count": 24,
          "metadata": {},
          "output_type": "execute_result"
        }
      ],
      "source": [
        "(2 == 3, 2 < 3, 2 <= 3, 2 != 3)"
      ]
    },
    {
      "cell_type": "markdown",
      "metadata": {
        "nbpresent": {
          "id": "f2db4d92-a6dc-4ce4-973b-623addee60f5"
        },
        "id": "BKGXlB6g2UNr"
      },
      "source": [
        "## Container operations"
      ]
    },
    {
      "cell_type": "code",
      "execution_count": null,
      "metadata": {
        "nbpresent": {
          "id": "cc07079e-46cf-4b24-8240-0c8f356cf384"
        },
        "id": "55NOktAw2UNs",
        "outputId": "e48ad6b5-8a49-4dae-ca81-a4a947e66a22"
      },
      "outputs": [
        {
          "data": {
            "text/plain": [
              "True"
            ]
          },
          "execution_count": 41,
          "metadata": {},
          "output_type": "execute_result"
        }
      ],
      "source": [
        "2 in [1,2,3]"
      ]
    },
    {
      "cell_type": "code",
      "execution_count": null,
      "metadata": {
        "nbpresent": {
          "id": "98dc4cf4-0de9-45ac-8056-a6bb98506321"
        },
        "id": "aBEw51K82UNs",
        "outputId": "8a4f022e-566b-41f2-99f6-36e7f5e86b47"
      },
      "outputs": [
        {
          "data": {
            "text/plain": [
              "False"
            ]
          },
          "execution_count": 42,
          "metadata": {},
          "output_type": "execute_result"
        }
      ],
      "source": [
        "\"a\" in \"Todd\""
      ]
    },
    {
      "cell_type": "code",
      "execution_count": 2,
      "metadata": {
        "nbpresent": {
          "id": "de82634e-c310-4316-8db0-1bef201414b6"
        },
        "id": "_jaAMhii2UNt",
        "outputId": "2cf990a3-86b7-47e8-e604-4b7c2d999ac7",
        "colab": {
          "base_uri": "https://localhost:8080/"
        }
      },
      "outputs": [
        {
          "output_type": "execute_result",
          "data": {
            "text/plain": [
              "True"
            ]
          },
          "metadata": {},
          "execution_count": 2
        }
      ],
      "source": [
        "\"t\" not in \"Todd\""
      ]
    },
    {
      "cell_type": "code",
      "execution_count": null,
      "metadata": {
        "nbpresent": {
          "id": "b23fc6af-c8e8-4f21-bfc3-64448f3d209d"
        },
        "scrolled": true,
        "id": "UNxmnwwq2UNt",
        "outputId": "e973a63b-924f-4d98-f814-72aba1caf597"
      },
      "outputs": [
        {
          "data": {
            "text/plain": [
              "False"
            ]
          },
          "execution_count": 26,
          "metadata": {},
          "output_type": "execute_result"
        }
      ],
      "source": [
        "2 in [1, [2, 3]]"
      ]
    },
    {
      "cell_type": "markdown",
      "metadata": {
        "nbpresent": {
          "id": "a9702cc1-1da0-4d6b-8198-835ac55fd9eb"
        },
        "id": "WDUTM3og2UNu"
      },
      "source": [
        "### <font color=\"red\"> Exercise 1.3.4</font>\n",
        "\n",
        "Why does `2 in [1, [2, 3]]` to `False`?\n"
      ]
    },
    {
      "cell_type": "markdown",
      "metadata": {
        "id": "OxEQMyxJ2UNv"
      },
      "source": [
        "The element `2` is not in the container `[1, [2, 3]]`. However, the container `[2,3]` is in the the container `[1, [2, 3]]`."
      ]
    },
    {
      "cell_type": "markdown",
      "metadata": {
        "nbpresent": {
          "id": "8fb5d98c-6b7c-4ffb-8c28-ac5f7a055f1a"
        },
        "id": "Ndfuc5rX2UNv"
      },
      "source": [
        "## Combining boolean expressions\n",
        "\n",
        "- Use `and`, `or`, and `not`"
      ]
    },
    {
      "cell_type": "code",
      "execution_count": null,
      "metadata": {
        "nbpresent": {
          "id": "5b47746d-6823-4b18-bd0a-e87df90e01e7"
        },
        "id": "W0OaUUh_2UNw",
        "outputId": "ecb9bbf1-40cb-4fff-e55b-cb0d601b0a9d"
      },
      "outputs": [
        {
          "data": {
            "text/plain": [
              "False"
            ]
          },
          "execution_count": 51,
          "metadata": {},
          "output_type": "execute_result"
        }
      ],
      "source": [
        "x, name = 5, \"Todd\"\n",
        "x % 2 == 1 and \"a\" in \"Todd\""
      ]
    },
    {
      "cell_type": "code",
      "execution_count": null,
      "metadata": {
        "nbpresent": {
          "id": "298c54dc-9124-4201-beef-67b6d98b4633"
        },
        "id": "5KJtP9rJ2UNx",
        "outputId": "1a85357d-e21c-404c-9161-1cdd4981ec34"
      },
      "outputs": [
        {
          "data": {
            "text/plain": [
              "True"
            ]
          },
          "execution_count": 52,
          "metadata": {},
          "output_type": "execute_result"
        }
      ],
      "source": [
        "x % 2 == 1 or \"a\" in \"Todd\""
      ]
    },
    {
      "cell_type": "code",
      "execution_count": null,
      "metadata": {
        "nbpresent": {
          "id": "ae43d805-5f59-4823-bbde-cb86bae63461"
        },
        "id": "gjcv4-3C2UNy",
        "outputId": "6bfca0cb-61d0-4ff5-ef69-23477def49b0"
      },
      "outputs": [
        {
          "data": {
            "text/plain": [
              "False"
            ]
          },
          "execution_count": 1,
          "metadata": {},
          "output_type": "execute_result"
        }
      ],
      "source": [
        "not 2 < 3"
      ]
    },
    {
      "cell_type": "markdown",
      "metadata": {
        "id": "XDHpaGFY2UNz"
      },
      "source": [
        "## Conditional Expression\n",
        "\n",
        "* Syntax:"
      ]
    },
    {
      "cell_type": "code",
      "execution_count": null,
      "metadata": {
        "id": "TuAHwQof2UN0"
      },
      "outputs": [],
      "source": [
        "true_val if boolean_condition else false_value"
      ]
    },
    {
      "cell_type": "code",
      "execution_count": null,
      "metadata": {
        "id": "QAkWLUEt2UN1",
        "outputId": "c160a713-8481-40f8-c91f-f6274a83225d"
      },
      "outputs": [
        {
          "data": {
            "text/plain": [
              "'No t'"
            ]
          },
          "execution_count": 2,
          "metadata": {},
          "output_type": "execute_result"
        }
      ],
      "source": [
        "\"Has t\" if \"t\" in \"Todd\" else \"No t\""
      ]
    },
    {
      "cell_type": "markdown",
      "metadata": {
        "id": "uChBr0NT2UN1"
      },
      "source": [
        "## Evaluating the conditional expression\n",
        "\n",
        "<img src=\"https://github.com/josephnagel1/NagelJoseph_module1_lectures/blob/main/img/cond_expr_1.png?raw=1\" width=400 />"
      ]
    },
    {
      "cell_type": "markdown",
      "metadata": {
        "nbpresent": {
          "id": "a9702cc1-1da0-4d6b-8198-835ac55fd9eb"
        },
        "id": "OSKpm3WO2UN1"
      },
      "source": [
        "### <font color=\"red\"> Exercise 1.3.5</font>\n",
        "\n",
        "Evaluate `\"Yes\" if (5 <= x < 10) and (x % 2 == 1) else \"No\"`\n",
        "\n",
        "1. By hand\n",
        "2. With Python\n"
      ]
    },
    {
      "cell_type": "markdown",
      "metadata": {
        "id": "_KKpcWfb2UN2"
      },
      "source": [
        "1. Evaluate by hand: 5 is less than or equal to 6 which is less than 10 (yes) and 6 mod 2 == 0 (no), so the answer to the question is no!"
      ]
    },
    {
      "cell_type": "code",
      "execution_count": 12,
      "metadata": {
        "id": "6bGRHuB72UN2",
        "outputId": "cff1b390-c874-4956-e5e8-7aace126bb26",
        "colab": {
          "base_uri": "https://localhost:8080/",
          "height": 35
        }
      },
      "outputs": [
        {
          "output_type": "execute_result",
          "data": {
            "text/plain": [
              "'No'"
            ],
            "application/vnd.google.colaboratory.intrinsic+json": {
              "type": "string"
            }
          },
          "metadata": {},
          "execution_count": 12
        }
      ],
      "source": [
        "# Evaluate with Python\n",
        "\"Yes\" if (5 <= x < 10) and (x % 2 == 1) else \"No\""
      ]
    }
  ],
  "metadata": {
    "anaconda-cloud": {},
    "celltoolbar": "Slideshow",
    "kernelspec": {
      "display_name": "Python 3",
      "language": "python",
      "name": "python3"
    },
    "language_info": {
      "codemirror_mode": {
        "name": "ipython",
        "version": 3
      },
      "file_extension": ".py",
      "mimetype": "text/x-python",
      "name": "python",
      "nbconvert_exporter": "python",
      "pygments_lexer": "ipython3",
      "version": "3.7.2"
    },
    "nbpresent": {
      "slides": {
        "d8cfa8b7-18e5-4d2f-8e92-8164c8bfad3b": {
          "id": "d8cfa8b7-18e5-4d2f-8e92-8164c8bfad3b",
          "prev": null,
          "regions": {
            "81231d63-4899-45f2-b382-fabf4f762896": {
              "attrs": {
                "height": 0.8,
                "width": 0.45,
                "x": 0.5,
                "y": 0.1
              },
              "id": "81231d63-4899-45f2-b382-fabf4f762896"
            },
            "b40d103d-8d7f-44de-8fca-19b2f9861cdd": {
              "attrs": {
                "height": 0.8,
                "width": 0.45,
                "x": 0.05,
                "y": 0.1
              },
              "id": "b40d103d-8d7f-44de-8fca-19b2f9861cdd"
            }
          }
        }
      },
      "themes": {}
    },
    "colab": {
      "provenance": [],
      "include_colab_link": true
    }
  },
  "nbformat": 4,
  "nbformat_minor": 0
}