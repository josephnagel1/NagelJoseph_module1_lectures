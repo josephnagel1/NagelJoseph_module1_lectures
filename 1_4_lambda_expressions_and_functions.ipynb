{
  "cells": [
    {
      "cell_type": "markdown",
      "metadata": {
        "id": "view-in-github",
        "colab_type": "text"
      },
      "source": [
        "<a href=\"https://colab.research.google.com/github/josephnagel1/NagelJoseph_module1_lectures/blob/main/1_4_lambda_expressions_and_functions.ipynb\" target=\"_parent\"><img src=\"https://colab.research.google.com/assets/colab-badge.svg\" alt=\"Open In Colab\"/></a>"
      ]
    },
    {
      "cell_type": "markdown",
      "metadata": {
        "nbpresent": {
          "id": "72b0ede6-af2b-41e9-81af-16c345e658d3"
        },
        "id": "FpwWj4sUkr_E"
      },
      "source": [
        "# Lambda Expressions and Functions\n",
        "\n",
        "## Objectives\n",
        "\n",
        "1. Use variables to make expressions more readable\n",
        "2. Introduce the `lambda` expression for reusing expressions\n",
        "3. Writing more complicated functions with the `def` statement"
      ]
    },
    {
      "cell_type": "markdown",
      "metadata": {
        "nbpresent": {
          "id": "1a11188f-9efb-4909-b63f-fa5d6ed1628a"
        },
        "id": "OMV46fz0kr_G"
      },
      "source": [
        "## The `lambda` expression\n",
        "\n",
        "* Allows reuse of expressions\n",
        "* Variables become **Parameters**\n",
        "    * insert values later"
      ]
    },
    {
      "cell_type": "markdown",
      "metadata": {
        "nbpresent": {
          "id": "a59a0a0b-3a93-41e6-b1bd-b9c856d68106"
        },
        "id": "5EkKvx75kr_H"
      },
      "source": [
        "## The `lambda` syntax\n",
        "\n",
        "<img src=\"https://github.com/josephnagel1/NagelJoseph_module1_lectures/blob/main/img/lambda_syntax.png?raw=1\"/>"
      ]
    },
    {
      "cell_type": "code",
      "execution_count": 1,
      "metadata": {
        "nbpresent": {
          "id": "12154f73-b113-47f0-a659-899c3c2e9cda"
        },
        "id": "8yPgljHPkr_I"
      },
      "outputs": [],
      "source": [
        "f = lambda x: x**2"
      ]
    },
    {
      "cell_type": "code",
      "execution_count": 2,
      "metadata": {
        "nbpresent": {
          "id": "12154f73-b113-47f0-a659-899c3c2e9cda"
        },
        "colab": {
          "base_uri": "https://localhost:8080/"
        },
        "id": "xtSjPK5Zkr_J",
        "outputId": "96171718-5699-46ad-8811-ee70122600cf"
      },
      "outputs": [
        {
          "output_type": "execute_result",
          "data": {
            "text/plain": [
              "4"
            ]
          },
          "metadata": {},
          "execution_count": 2
        }
      ],
      "source": [
        "f = lambda x: x**2\n",
        "f(2)"
      ]
    },
    {
      "cell_type": "markdown",
      "metadata": {
        "id": "9w3f_8uBkr_J"
      },
      "source": [
        "## Evaluating `lambda` expressions\n",
        "\n",
        "<img src=\"https://github.com/josephnagel1/NagelJoseph_module1_lectures/blob/main/img/lambda_evaluation.png?raw=1\" width=400/>"
      ]
    },
    {
      "cell_type": "markdown",
      "metadata": {
        "nbpresent": {
          "id": "a59a0a0b-3a93-41e6-b1bd-b9c856d68106"
        },
        "id": "b0c8ah-6kr_K"
      },
      "source": [
        "## The `lambda` expression\n",
        "\n",
        "* The *type* of a `lambda` is the type `function`\n",
        "* The *value* of a `lambda` expression is actual function\n",
        "* Remember\n",
        "    * `lambda` MAKES the function\n",
        "    * Use function call to execute the function"
      ]
    },
    {
      "cell_type": "code",
      "execution_count": null,
      "metadata": {
        "id": "inaPgygFkr_L",
        "outputId": "4c46a676-dede-446a-d18d-511c64a92fe7"
      },
      "outputs": [
        {
          "data": {
            "text/plain": [
              "<function __main__.<lambda>>"
            ]
          },
          "execution_count": 5,
          "metadata": {},
          "output_type": "execute_result"
        }
      ],
      "source": [
        "f"
      ]
    },
    {
      "cell_type": "code",
      "execution_count": null,
      "metadata": {
        "nbpresent": {
          "id": "12154f73-b113-47f0-a659-899c3c2e9cda"
        },
        "id": "-vxTzMm1kr_L",
        "outputId": "4117bd62-a668-41fb-94a7-ca97aa4498a2"
      },
      "outputs": [
        {
          "data": {
            "text/plain": [
              "function"
            ]
          },
          "execution_count": 2,
          "metadata": {},
          "output_type": "execute_result"
        }
      ],
      "source": [
        "type(f)"
      ]
    },
    {
      "cell_type": "markdown",
      "metadata": {
        "id": "yD_oavVXkr_M"
      },
      "source": [
        "## Calling a lambda expression in the usual way"
      ]
    },
    {
      "cell_type": "code",
      "execution_count": null,
      "metadata": {
        "nbpresent": {
          "id": "eb41b143-7ceb-475d-83e3-941bd5866cb4"
        },
        "id": "xDUGKw01kr_N",
        "outputId": "834daecc-da8a-4cf0-a0ca-6a43345c2102"
      },
      "outputs": [
        {
          "data": {
            "text/plain": [
              "9"
            ]
          },
          "execution_count": 3,
          "metadata": {},
          "output_type": "execute_result"
        }
      ],
      "source": [
        "f(3)"
      ]
    },
    {
      "cell_type": "markdown",
      "metadata": {
        "id": "cQF2licSkr_O"
      },
      "source": [
        "<font color=\"red\"><h1>Exercise 1</h1></font>\n",
        "\n",
        "Write a function using a `lambda` expression that computes the area of a circle with radius `r`.\n"
      ]
    },
    {
      "cell_type": "code",
      "execution_count": 10,
      "metadata": {
        "id": "H60V5agrkr_P"
      },
      "outputs": [],
      "source": [
        "import math as m\n",
        "\n",
        "f_area = lambda r: m.pi * r ** 2"
      ]
    },
    {
      "cell_type": "code",
      "source": [
        "f_area(4)"
      ],
      "metadata": {
        "colab": {
          "base_uri": "https://localhost:8080/"
        },
        "id": "1caNkyyHmoP5",
        "outputId": "3bd9949e-b871-48ab-9449-19ffa286e895"
      },
      "execution_count": 11,
      "outputs": [
        {
          "output_type": "execute_result",
          "data": {
            "text/plain": [
              "50.26548245743669"
            ]
          },
          "metadata": {},
          "execution_count": 11
        }
      ]
    },
    {
      "cell_type": "markdown",
      "metadata": {
        "id": "9m_KSoNBkr_P"
      },
      "source": [
        "## Lambdas with many arguments"
      ]
    },
    {
      "cell_type": "code",
      "execution_count": null,
      "metadata": {
        "nbpresent": {
          "id": "2f7d8217-77e6-4c57-802a-ac417af24d61"
        },
        "id": "eGhjBc_dkr_Q",
        "outputId": "aa3e7739-7b1c-48db-985b-389450c92d04"
      },
      "outputs": [
        {
          "data": {
            "text/plain": [
              "16"
            ]
          },
          "execution_count": 9,
          "metadata": {},
          "output_type": "execute_result"
        }
      ],
      "source": [
        "g = lambda x, y : x**y\n",
        "g(2,4)"
      ]
    },
    {
      "cell_type": "markdown",
      "metadata": {
        "id": "eoeuUQpYkr_Q"
      },
      "source": [
        "## Evaluating a 2 argument `lambda`\n",
        "\n",
        "<img src=\"https://github.com/josephnagel1/NagelJoseph_module1_lectures/blob/main/img/lambda_eval_2arg_1.png?raw=1\" width=600/>"
      ]
    },
    {
      "cell_type": "markdown",
      "metadata": {
        "id": "R-bfs3f0kr_Q"
      },
      "source": [
        "## Evaluating a 2 argument `lambda`\n",
        "\n",
        "<img src=\"https://github.com/josephnagel1/NagelJoseph_module1_lectures/blob/main/img/lambda_eval_2arg_2.png?raw=1\" width=600/>"
      ]
    },
    {
      "cell_type": "markdown",
      "metadata": {
        "id": "jLnJ0kzmkr_R"
      },
      "source": [
        "## Evaluating a 2 argument `lambda`\n",
        "\n",
        "<img src=\"https://github.com/josephnagel1/NagelJoseph_module1_lectures/blob/main/img/lambda_eval_2arg_3.png?raw=1\" width=600/>"
      ]
    },
    {
      "cell_type": "markdown",
      "metadata": {
        "id": "Ejiry5Wjkr_R"
      },
      "source": [
        ""
      ]
    },
    {
      "cell_type": "markdown",
      "metadata": {
        "id": "sCBCEeX8kr_S"
      },
      "source": [
        "<font color=\"red\"><h1>Exercise 2</h1></font>\n",
        "\n",
        "Use a similar process to evaluate `h(1,2,3)` when\n",
        "\n",
        "```\n",
        "h = lambda x, y, z: 2*x*y+ y**2/z\n",
        "```"
      ]
    },
    {
      "cell_type": "code",
      "execution_count": null,
      "metadata": {
        "id": "AVo2sBmlkr_S",
        "outputId": "8f8b917e-c083-4eb0-ca58-d3f3afe157d5"
      },
      "outputs": [
        {
          "data": {
            "text/plain": [
              "5.333333333333333"
            ]
          },
          "execution_count": 26,
          "metadata": {},
          "output_type": "execute_result"
        }
      ],
      "source": [
        "h = lambda x, y, z: 2*x*y+ y**2/z\n",
        "h(1, 2, 3)"
      ]
    },
    {
      "cell_type": "code",
      "execution_count": 21,
      "metadata": {
        "colab": {
          "base_uri": "https://localhost:8080/"
        },
        "id": "oLx_lxmikr_S",
        "outputId": "b5391549-bbdc-42c0-8e98-8bc64ddc3847"
      },
      "outputs": [
        {
          "output_type": "execute_result",
          "data": {
            "text/plain": [
              "5.333333333333333"
            ]
          },
          "metadata": {},
          "execution_count": 21
        }
      ],
      "source": [
        "(lambda x, y, z: 2*x*y+ y**2/z)(1, 2, 3)"
      ]
    },
    {
      "cell_type": "code",
      "source": [
        "2*1*2+ 2**2/3"
      ],
      "metadata": {
        "colab": {
          "base_uri": "https://localhost:8080/"
        },
        "id": "g2JDfGUDqjWz",
        "outputId": "458863cc-6c0c-45ac-b55d-f00ecdba8dcb"
      },
      "execution_count": 22,
      "outputs": [
        {
          "output_type": "execute_result",
          "data": {
            "text/plain": [
              "5.333333333333333"
            ]
          },
          "metadata": {},
          "execution_count": 22
        }
      ]
    },
    {
      "cell_type": "markdown",
      "metadata": {
        "id": "vFnoFPW4kr_S"
      },
      "source": [
        "<font color=\"red\"><h1>Exercise 3</h1></font>\n",
        "\n",
        "The function `random` from the `random` module can be used to generate numbers between 0 and 1 at random. We want to return numbers between $a$ and $b$ at random, which can be accomplished using the formula $V = (b - a)*random() + a$.\n",
        "\n",
        "Write a lambda function that takes `a` and `b` as arguments are returns a number between `a` and `b` at random."
      ]
    },
    {
      "cell_type": "code",
      "source": [
        "from random import random\n",
        "\n",
        "V = lambda a, b: (b - a) * random() + a "
      ],
      "metadata": {
        "id": "tOIAcY0ApKBD"
      },
      "execution_count": 17,
      "outputs": []
    },
    {
      "cell_type": "code",
      "source": [
        "V(69,420)"
      ],
      "metadata": {
        "colab": {
          "base_uri": "https://localhost:8080/"
        },
        "id": "br15gMv6pXA5",
        "outputId": "89a1f963-ab17-4479-ced4-84ae4af9e682"
      },
      "execution_count": 19,
      "outputs": [
        {
          "output_type": "execute_result",
          "data": {
            "text/plain": [
              "399.6751367277003"
            ]
          },
          "metadata": {},
          "execution_count": 19
        }
      ]
    }
  ],
  "metadata": {
    "anaconda-cloud": {},
    "kernelspec": {
      "display_name": "Python 3",
      "language": "python",
      "name": "python3"
    },
    "language_info": {
      "codemirror_mode": {
        "name": "ipython",
        "version": 3
      },
      "file_extension": ".py",
      "mimetype": "text/x-python",
      "name": "python",
      "nbconvert_exporter": "python",
      "pygments_lexer": "ipython3",
      "version": "3.7.2"
    },
    "nbpresent": {
      "slides": {
        "d8cfa8b7-18e5-4d2f-8e92-8164c8bfad3b": {
          "id": "d8cfa8b7-18e5-4d2f-8e92-8164c8bfad3b",
          "prev": null,
          "regions": {
            "81231d63-4899-45f2-b382-fabf4f762896": {
              "attrs": {
                "height": 0.8,
                "width": 0.45,
                "x": 0.5,
                "y": 0.1
              },
              "id": "81231d63-4899-45f2-b382-fabf4f762896"
            },
            "b40d103d-8d7f-44de-8fca-19b2f9861cdd": {
              "attrs": {
                "height": 0.8,
                "width": 0.45,
                "x": 0.05,
                "y": 0.1
              },
              "id": "b40d103d-8d7f-44de-8fca-19b2f9861cdd"
            }
          }
        }
      },
      "themes": {}
    },
    "colab": {
      "provenance": [],
      "include_colab_link": true
    }
  },
  "nbformat": 4,
  "nbformat_minor": 0
}