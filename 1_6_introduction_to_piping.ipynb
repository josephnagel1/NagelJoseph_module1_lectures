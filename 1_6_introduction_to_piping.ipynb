{
  "cells": [
    {
      "cell_type": "markdown",
      "metadata": {
        "id": "view-in-github",
        "colab_type": "text"
      },
      "source": [
        "<a href=\"https://colab.research.google.com/github/josephnagel1/NagelJoseph_module1_lectures/blob/main/1_6_introduction_to_piping.ipynb\" target=\"_parent\"><img src=\"https://colab.research.google.com/assets/colab-badge.svg\" alt=\"Open In Colab\"/></a>"
      ]
    },
    {
      "cell_type": "code",
      "execution_count": 1,
      "metadata": {
        "id": "rXtStZsGdjcY"
      },
      "outputs": [],
      "source": [
        "import rpy2\n",
        "%load_ext rpy2.ipython"
      ]
    },
    {
      "cell_type": "code",
      "execution_count": 2,
      "metadata": {
        "id": "ZRZRYPVsdjca",
        "outputId": "7763fc99-ee22-42b8-9080-5c422bb8ae1d",
        "colab": {
          "base_uri": "https://localhost:8080/"
        }
      },
      "outputs": [
        {
          "output_type": "stream",
          "name": "stderr",
          "text": [
            "WARNING:rpy2.rinterface_lib.callbacks:R[write to console]: \n",
            "Attaching package: ‘dplyr’\n",
            "\n",
            "\n",
            "WARNING:rpy2.rinterface_lib.callbacks:R[write to console]: The following objects are masked from ‘package:stats’:\n",
            "\n",
            "    filter, lag\n",
            "\n",
            "\n",
            "WARNING:rpy2.rinterface_lib.callbacks:R[write to console]: The following objects are masked from ‘package:base’:\n",
            "\n",
            "    intersect, setdiff, setequal, union\n",
            "\n",
            "\n"
          ]
        }
      ],
      "source": [
        "%%R\n",
        "library(dplyr)"
      ]
    },
    {
      "cell_type": "markdown",
      "metadata": {
        "id": "DlbM-S5udjcb"
      },
      "source": [
        "# Introduction to piping"
      ]
    },
    {
      "cell_type": "markdown",
      "metadata": {
        "id": "eBv6cKNTdjcd"
      },
      "source": [
        "## Review -- Piping with `dplyr`\n",
        "\n",
        "You might be familiar with piping in R using the `%>%` operator from `dplyr`"
      ]
    },
    {
      "cell_type": "code",
      "execution_count": 3,
      "metadata": {
        "id": "0pSWkbBRdjce",
        "outputId": "c0d48d69-ba89-4db8-c183-c67620a9ee0e",
        "colab": {
          "base_uri": "https://localhost:8080/"
        }
      },
      "outputs": [
        {
          "output_type": "stream",
          "name": "stdout",
          "text": [
            "[1] \"1.77\"\n"
          ]
        }
      ],
      "source": [
        "%%R\n",
        "pi %>% \n",
        "sqrt %>% \n",
        "round(2) %>% \n",
        "as.character"
      ]
    },
    {
      "cell_type": "markdown",
      "metadata": {
        "id": "TA-LV3wGdjcf"
      },
      "source": [
        "## Making `pipeable` functions using `composable`\n",
        "\n",
        "To get functions to be pipeable in Python, we need to wrap them in `pipeable` from the `composable` module"
      ]
    },
    {
      "cell_type": "code",
      "execution_count": 4,
      "metadata": {
        "id": "cEyWBe73djcg",
        "outputId": "b4d10aba-7134-4c3f-af27-42006e891b3a",
        "colab": {
          "base_uri": "https://localhost:8080/"
        }
      },
      "outputs": [
        {
          "output_type": "stream",
          "name": "stdout",
          "text": [
            "Looking in indexes: https://pypi.org/simple, https://us-python.pkg.dev/colab-wheels/public/simple/\n",
            "Collecting composable\n",
            "  Downloading composable-0.2.5-py3-none-any.whl (7.3 kB)\n",
            "Collecting python-forge<19.0,>=18.6\n",
            "  Downloading python_forge-18.6.0-py35-none-any.whl (31 kB)\n",
            "Collecting toolz<0.12.0,>=0.11.1\n",
            "  Downloading toolz-0.11.2-py3-none-any.whl (55 kB)\n",
            "\u001b[K     |████████████████████████████████| 55 kB 3.8 MB/s \n",
            "\u001b[?25hInstalling collected packages: toolz, python-forge, composable\n",
            "  Attempting uninstall: toolz\n",
            "    Found existing installation: toolz 0.12.0\n",
            "    Uninstalling toolz-0.12.0:\n",
            "      Successfully uninstalled toolz-0.12.0\n",
            "Successfully installed composable-0.2.5 python-forge-18.6.0 toolz-0.11.2\n"
          ]
        }
      ],
      "source": [
        "!pip install composable # Install if missing or in colab"
      ]
    },
    {
      "cell_type": "code",
      "execution_count": 5,
      "metadata": {
        "id": "72cSjVtSdjcg"
      },
      "outputs": [],
      "source": [
        "from composable import pipeable"
      ]
    },
    {
      "cell_type": "markdown",
      "metadata": {
        "id": "GSl29dbBdjch"
      },
      "source": [
        "## Making some pipeable functions\n",
        "\n",
        "Before I can recreate the R example, I need to make some pipeable functions."
      ]
    },
    {
      "cell_type": "markdown",
      "metadata": {
        "id": "VRv0AU8kdjcj"
      },
      "source": [
        "## Making a pipeable `sqrt`\n",
        "\n",
        "To make an existing function pipeable, I need to wrap or *decorate* it with `pipeable`."
      ]
    },
    {
      "cell_type": "code",
      "execution_count": 6,
      "metadata": {
        "id": "n6MIC7NMdjck"
      },
      "outputs": [],
      "source": [
        "import math as m\n",
        "sqrt = pipeable(m.sqrt)"
      ]
    },
    {
      "cell_type": "code",
      "execution_count": 7,
      "metadata": {
        "id": "wA1INGJJdjck",
        "outputId": "57a8f3c1-8c55-48c5-dc95-21aade1b641f",
        "colab": {
          "base_uri": "https://localhost:8080/"
        }
      },
      "outputs": [
        {
          "output_type": "execute_result",
          "data": {
            "text/plain": [
              "1.4142135623730951"
            ]
          },
          "metadata": {},
          "execution_count": 7
        }
      ],
      "source": [
        "2 >> sqrt"
      ]
    },
    {
      "cell_type": "markdown",
      "metadata": {
        "id": "Ey6RsG4Idjcl"
      },
      "source": [
        "## Some common functions are not actually functions\n",
        "\n",
        "Some Python \"functions\" are not actually functions, but type constructors.  Examples include `str`, `float`, `int`, `list`, etc.  This also includes the most powerful type constructor of them all, `type`"
      ]
    },
    {
      "cell_type": "code",
      "execution_count": 8,
      "metadata": {
        "id": "WW-7W4JMdjcm",
        "outputId": "8f13d626-8997-4c2c-9d6c-5d2712b98b32",
        "colab": {
          "base_uri": "https://localhost:8080/"
        }
      },
      "outputs": [
        {
          "output_type": "execute_result",
          "data": {
            "text/plain": [
              "type"
            ]
          },
          "metadata": {},
          "execution_count": 8
        }
      ],
      "source": [
        "type(str)"
      ]
    },
    {
      "cell_type": "code",
      "execution_count": 22,
      "metadata": {
        "id": "2LrfqeThdjcm",
        "outputId": "afd5dba5-6e01-4b6a-dc22-b7f393090b14",
        "colab": {
          "base_uri": "https://localhost:8080/"
        }
      },
      "outputs": [
        {
          "output_type": "execute_result",
          "data": {
            "text/plain": [
              "1.8708286933869707"
            ]
          },
          "metadata": {},
          "execution_count": 22
        }
      ],
      "source": [
        "wont_always_work = pipeable(float)\n",
        "3.5 >> sqrt >> wont_always_work"
      ]
    },
    {
      "cell_type": "markdown",
      "metadata": {
        "id": "BC0rGrZ3djcm"
      },
      "source": [
        "## Use a `lambda` to create a pipeable type conversion function\n",
        "\n",
        "To be safe, we need to wrap type constructors in a lambda, THEN `pipeable`"
      ]
    },
    {
      "cell_type": "code",
      "execution_count": 10,
      "metadata": {
        "id": "AcMGD7cwdjcn"
      },
      "outputs": [],
      "source": [
        "toStr = pipeable(lambda n: str(n))"
      ]
    },
    {
      "cell_type": "code",
      "execution_count": 11,
      "metadata": {
        "id": "54Zh_-zfdjcn",
        "outputId": "103d7d7b-b853-4cfe-b4ce-d04e6b9cedfd",
        "colab": {
          "base_uri": "https://localhost:8080/",
          "height": 35
        }
      },
      "outputs": [
        {
          "output_type": "execute_result",
          "data": {
            "text/plain": [
              "'3.5'"
            ],
            "application/vnd.google.colaboratory.intrinsic+json": {
              "type": "string"
            }
          },
          "metadata": {},
          "execution_count": 11
        }
      ],
      "source": [
        "3.5 >> toStr"
      ]
    },
    {
      "cell_type": "markdown",
      "metadata": {
        "id": "nM3bq2Trdjco"
      },
      "source": [
        "## Piping and multiple arguments\n",
        "\n",
        "Piped in data is inserted **on the right**"
      ]
    },
    {
      "cell_type": "code",
      "execution_count": 12,
      "metadata": {
        "id": "D1uE2XR6djco"
      },
      "outputs": [],
      "source": [
        "test = pipeable(lambda a, b: f\"first:{a} second:{b}\")"
      ]
    },
    {
      "cell_type": "code",
      "execution_count": 13,
      "metadata": {
        "id": "Xmkebs-Adjco",
        "outputId": "4e0e1ef2-fcc1-4833-b00b-8fd30340d5df",
        "colab": {
          "base_uri": "https://localhost:8080/",
          "height": 35
        }
      },
      "outputs": [
        {
          "output_type": "execute_result",
          "data": {
            "text/plain": [
              "'first:1 second:2'"
            ],
            "application/vnd.google.colaboratory.intrinsic+json": {
              "type": "string"
            }
          },
          "metadata": {},
          "execution_count": 13
        }
      ],
      "source": [
        "test(1,2)"
      ]
    },
    {
      "cell_type": "code",
      "execution_count": 14,
      "metadata": {
        "id": "c--Mx1HSdjco",
        "outputId": "9383f743-17e2-4ec5-b5f9-5090068dde0b",
        "colab": {
          "base_uri": "https://localhost:8080/",
          "height": 35
        }
      },
      "outputs": [
        {
          "output_type": "execute_result",
          "data": {
            "text/plain": [
              "'first:2 second:1'"
            ],
            "application/vnd.google.colaboratory.intrinsic+json": {
              "type": "string"
            }
          },
          "metadata": {},
          "execution_count": 14
        }
      ],
      "source": [
        "1 >> test(2)"
      ]
    },
    {
      "cell_type": "code",
      "execution_count": 15,
      "metadata": {
        "id": "P9xkpREsdjcp",
        "outputId": "bc1d0339-0896-41e8-da5a-e09cf3c3313d",
        "colab": {
          "base_uri": "https://localhost:8080/",
          "height": 35
        }
      },
      "outputs": [
        {
          "output_type": "execute_result",
          "data": {
            "text/plain": [
              "'first:1 second:2'"
            ],
            "application/vnd.google.colaboratory.intrinsic+json": {
              "type": "string"
            }
          },
          "metadata": {},
          "execution_count": 15
        }
      ],
      "source": [
        "2 >> test(1)"
      ]
    },
    {
      "cell_type": "markdown",
      "metadata": {
        "id": "nnNqMi5Fdjcp"
      },
      "source": [
        "## Rearranging argument order\n",
        "\n",
        "The default `round` function uses `round(number, digits)`"
      ]
    },
    {
      "cell_type": "code",
      "execution_count": 16,
      "metadata": {
        "id": "fwV1H6Hjdjcp",
        "outputId": "e22f3395-2b4e-41e4-e7d3-c3ac3bf8c53e",
        "colab": {
          "base_uri": "https://localhost:8080/"
        }
      },
      "outputs": [
        {
          "output_type": "execute_result",
          "data": {
            "text/plain": [
              "3.14"
            ]
          },
          "metadata": {},
          "execution_count": 16
        }
      ],
      "source": [
        "round(m.pi, 2)"
      ]
    },
    {
      "cell_type": "markdown",
      "metadata": {
        "id": "oEHCEglvdjcq"
      },
      "source": [
        "For piping, it is more convenient to switch the order."
      ]
    },
    {
      "cell_type": "code",
      "execution_count": 17,
      "metadata": {
        "id": "1XSYU04sdjcq"
      },
      "outputs": [],
      "source": [
        "rnd = pipeable(lambda d, n: round(n, d))"
      ]
    },
    {
      "cell_type": "code",
      "execution_count": 18,
      "metadata": {
        "id": "0k85XyDidjcq",
        "outputId": "db252ade-9f14-4530-b9a6-4c84e4a2252a",
        "colab": {
          "base_uri": "https://localhost:8080/"
        }
      },
      "outputs": [
        {
          "output_type": "execute_result",
          "data": {
            "text/plain": [
              "3.14"
            ]
          },
          "metadata": {},
          "execution_count": 18
        }
      ],
      "source": [
        "m.pi >> rnd(2) "
      ]
    },
    {
      "cell_type": "markdown",
      "metadata": {
        "id": "K2FCV2jHdjcq"
      },
      "source": [
        "## Recreating the R example"
      ]
    },
    {
      "cell_type": "code",
      "execution_count": 19,
      "metadata": {
        "id": "8oTOMi5Qdjcq",
        "outputId": "cc97dfd4-0506-47ac-ec11-3b8811c568c1",
        "colab": {
          "base_uri": "https://localhost:8080/",
          "height": 35
        }
      },
      "outputs": [
        {
          "output_type": "execute_result",
          "data": {
            "text/plain": [
              "'1.77'"
            ],
            "application/vnd.google.colaboratory.intrinsic+json": {
              "type": "string"
            }
          },
          "metadata": {},
          "execution_count": 19
        }
      ],
      "source": [
        "m.pi >> sqrt >> rnd(2) >> toStr"
      ]
    },
    {
      "cell_type": "code",
      "execution_count": 20,
      "metadata": {
        "scrolled": true,
        "id": "5-2NbkRedjcr",
        "outputId": "d6945e15-a7ff-407d-810d-144597d710b7",
        "colab": {
          "base_uri": "https://localhost:8080/",
          "height": 133
        }
      },
      "outputs": [
        {
          "output_type": "error",
          "ename": "SyntaxError",
          "evalue": "ignored",
          "traceback": [
            "\u001b[0;36m  File \u001b[0;32m\"<ipython-input-20-f682fcc14d43>\"\u001b[0;36m, line \u001b[0;32m1\u001b[0m\n\u001b[0;31m    m.pi >>\u001b[0m\n\u001b[0m            ^\u001b[0m\n\u001b[0;31mSyntaxError\u001b[0m\u001b[0;31m:\u001b[0m invalid syntax\n"
          ]
        }
      ],
      "source": [
        "m.pi >> \n",
        "sqrt >> \n",
        "rnd(2) >> \n",
        "toStr"
      ]
    },
    {
      "cell_type": "markdown",
      "metadata": {
        "id": "3xPBREandjcr"
      },
      "source": [
        "## Hint 1: Wrap multi-line piped expressions in parentheses"
      ]
    },
    {
      "cell_type": "code",
      "execution_count": 23,
      "metadata": {
        "id": "mhaMWL-mdjcr",
        "outputId": "0adef0d4-e4bf-4e12-fd34-e789b8f21839",
        "colab": {
          "base_uri": "https://localhost:8080/",
          "height": 35
        }
      },
      "outputs": [
        {
          "output_type": "execute_result",
          "data": {
            "text/plain": [
              "'1.77'"
            ],
            "application/vnd.google.colaboratory.intrinsic+json": {
              "type": "string"
            }
          },
          "metadata": {},
          "execution_count": 23
        }
      ],
      "source": [
        "(m.pi >> \n",
        " sqrt >> \n",
        " rnd(2) >> \n",
        " toStr)"
      ]
    },
    {
      "cell_type": "markdown",
      "metadata": {
        "id": "uszSa6fVdjcs"
      },
      "source": [
        "## Hint 2: Put the pipes at the start of a line"
      ]
    },
    {
      "cell_type": "code",
      "execution_count": 24,
      "metadata": {
        "id": "4TKD9qukdjcs",
        "outputId": "1323b8fa-33a6-4260-b34c-26d9fbd59a9c",
        "colab": {
          "base_uri": "https://localhost:8080/",
          "height": 35
        }
      },
      "outputs": [
        {
          "output_type": "execute_result",
          "data": {
            "text/plain": [
              "'1.77'"
            ],
            "application/vnd.google.colaboratory.intrinsic+json": {
              "type": "string"
            }
          },
          "metadata": {},
          "execution_count": 24
        }
      ],
      "source": [
        "(m.pi \n",
        " >> sqrt \n",
        " >> rnd(2) \n",
        " >> toStr\n",
        ")"
      ]
    },
    {
      "cell_type": "markdown",
      "metadata": {
        "id": "8QI5gmsBdjcs"
      },
      "source": [
        "## Pipeable functions return functions when partially complete\n",
        "\n",
        "Note that `pipeable` functions are curried, meaning they return functions if not provided with enough arguments."
      ]
    },
    {
      "cell_type": "code",
      "execution_count": 25,
      "metadata": {
        "id": "14SlVTxvdjcs"
      },
      "outputs": [],
      "source": [
        "threeArgs= pipeable(lambda a, b, c: f\"first:{a} second:{b} third:{c}\")"
      ]
    },
    {
      "cell_type": "code",
      "execution_count": 26,
      "metadata": {
        "scrolled": true,
        "id": "ARTnlBQtdjct",
        "outputId": "2968463b-3b5c-4977-f286-d0c2ad5d1a14",
        "colab": {
          "base_uri": "https://localhost:8080/"
        }
      },
      "outputs": [
        {
          "output_type": "execute_result",
          "data": {
            "text/plain": [
              "<function <lambda> at 0x7fb9587ee0e0>"
            ]
          },
          "metadata": {},
          "execution_count": 26
        }
      ],
      "source": [
        "threeArgs(\"Bob\")"
      ]
    },
    {
      "cell_type": "code",
      "execution_count": 27,
      "metadata": {
        "scrolled": true,
        "id": "3lEtp5_Rdjct",
        "outputId": "46c13451-9b48-425c-b2d7-9fcf18f036eb",
        "colab": {
          "base_uri": "https://localhost:8080/"
        }
      },
      "outputs": [
        {
          "output_type": "execute_result",
          "data": {
            "text/plain": [
              "<function <lambda> at 0x7fb9587ee0e0>"
            ]
          },
          "metadata": {},
          "execution_count": 27
        }
      ],
      "source": [
        "threeArgs(\"Bob\", \"Alice\")"
      ]
    },
    {
      "cell_type": "markdown",
      "metadata": {
        "id": "ygisDj6Gdjct"
      },
      "source": [
        "## We can save and call a partial functions "
      ]
    },
    {
      "cell_type": "code",
      "execution_count": 28,
      "metadata": {
        "id": "3a1aGW4Tdjcu"
      },
      "outputs": [],
      "source": [
        "bob = threeArgs(\"Bob\")"
      ]
    },
    {
      "cell_type": "code",
      "execution_count": 29,
      "metadata": {
        "id": "cdyJQKlrdjcu",
        "outputId": "2a517b76-3d8d-4230-b5a3-16a4e2633ff2",
        "colab": {
          "base_uri": "https://localhost:8080/",
          "height": 35
        }
      },
      "outputs": [
        {
          "output_type": "execute_result",
          "data": {
            "text/plain": [
              "'first:Bob second:2 third:3'"
            ],
            "application/vnd.google.colaboratory.intrinsic+json": {
              "type": "string"
            }
          },
          "metadata": {},
          "execution_count": 29
        }
      ],
      "source": [
        "bob(2,3)"
      ]
    },
    {
      "cell_type": "code",
      "execution_count": 30,
      "metadata": {
        "id": "VemWHrgKdjcu"
      },
      "outputs": [],
      "source": [
        "bobAndAlice = bob(\"Alice\")"
      ]
    },
    {
      "cell_type": "code",
      "execution_count": 31,
      "metadata": {
        "scrolled": true,
        "id": "Q8SqYBd2djcu",
        "outputId": "ca946d66-6a8a-4922-804f-2d53670c1ebf",
        "colab": {
          "base_uri": "https://localhost:8080/",
          "height": 35
        }
      },
      "outputs": [
        {
          "output_type": "execute_result",
          "data": {
            "text/plain": [
              "'first:Bob second:Alice third:3'"
            ],
            "application/vnd.google.colaboratory.intrinsic+json": {
              "type": "string"
            }
          },
          "metadata": {},
          "execution_count": 31
        }
      ],
      "source": [
        "bobAndAlice(3)"
      ]
    },
    {
      "cell_type": "markdown",
      "metadata": {
        "id": "TlWDgXr8djcu"
      },
      "source": [
        "## Example\n",
        "\n",
        "Suppose that I round to two decimal places A LOT.  In this case it might be nice to have a specialized function"
      ]
    },
    {
      "cell_type": "code",
      "execution_count": 32,
      "metadata": {
        "id": "7lE8MLmzdjcv"
      },
      "outputs": [],
      "source": [
        "rndToTwo = rnd(2)"
      ]
    },
    {
      "cell_type": "code",
      "execution_count": 33,
      "metadata": {
        "id": "UGiJ2Ed9djcv",
        "outputId": "7fe038cc-099b-4b73-959a-b382582fed0a",
        "colab": {
          "base_uri": "https://localhost:8080/"
        }
      },
      "outputs": [
        {
          "output_type": "execute_result",
          "data": {
            "text/plain": [
              "3.14"
            ]
          },
          "metadata": {},
          "execution_count": 33
        }
      ],
      "source": [
        "m.pi >> rndToTwo"
      ]
    },
    {
      "cell_type": "markdown",
      "metadata": {
        "id": "s2IlOjpCdjcv"
      },
      "source": [
        "<font color=\"red\"><h1>Exercise 3</h1></font>\n",
        "\n",
        "Here is a problem that you solved in a previous activity:\n",
        "\n",
        "    The function `random` from the `random` module can be used to generate numbers between 0 and 1 at random. We want to return numbers between $a$ and $b$ at random, which can be accomplished using the formula $V = (b - a)*random() + a$.\n",
        "\n",
        "    Write a lambda function that takes `a` and `b` as arguments are returns a number between `a` and `b` at random.\n",
        "   \n",
        "Note that we can name the parts the process as follows:\n",
        "\n",
        "> b takeAway a >> times a random number >> subtract a\n",
        "\n",
        "Let's redo this problem, but this time with piping; where we will make a pipeable function to perform each task."
      ]
    },
    {
      "cell_type": "code",
      "source": [
        "import random as r"
      ],
      "metadata": {
        "id": "eT_lU_UIfOCK"
      },
      "execution_count": 93,
      "outputs": []
    },
    {
      "cell_type": "code",
      "execution_count": 94,
      "metadata": {
        "id": "CLK1-Mvodjcv"
      },
      "outputs": [],
      "source": [
        "takeAway = pipeable(lambda upper_limit, lower_limit: upper_limit - lower_limit)\n",
        "timesRandom = pipeable(lambda c: c * r.random())\n",
        "addBack = pipeable(lambda add_to, old_value: add_to + old_value)"
      ]
    },
    {
      "cell_type": "code",
      "execution_count": 95,
      "metadata": {
        "id": "_c3O27SEdjcw"
      },
      "outputs": [],
      "source": [
        "def uniform(a, b):\n",
        "    return ( b\n",
        "            >> takeAway(a)\n",
        "            >> timesRandom\n",
        "            >> addBack(b)\n",
        "            )"
      ]
    },
    {
      "cell_type": "code",
      "execution_count": 96,
      "metadata": {
        "id": "Uviu80l3djcw"
      },
      "outputs": [],
      "source": [
        "assert 1 <= uniform(1,2) <= 2"
      ]
    },
    {
      "cell_type": "code",
      "execution_count": 97,
      "metadata": {
        "id": "Q41qojJtdjcw",
        "outputId": "320cff64-c024-434c-ea71-360ca5a8bee8",
        "colab": {
          "base_uri": "https://localhost:8080/"
        }
      },
      "outputs": [
        {
          "output_type": "execute_result",
          "data": {
            "text/plain": [
              "6.3131556581925325"
            ]
          },
          "metadata": {},
          "execution_count": 97
        }
      ],
      "source": [
        "uniform(6,7)"
      ]
    }
  ],
  "metadata": {
    "kernelspec": {
      "display_name": "Python 3",
      "language": "python",
      "name": "python3"
    },
    "language_info": {
      "codemirror_mode": {
        "name": "ipython",
        "version": 3
      },
      "file_extension": ".py",
      "mimetype": "text/x-python",
      "name": "python",
      "nbconvert_exporter": "python",
      "pygments_lexer": "ipython3",
      "version": "3.7.2"
    },
    "colab": {
      "provenance": [],
      "include_colab_link": true
    }
  },
  "nbformat": 4,
  "nbformat_minor": 0
}