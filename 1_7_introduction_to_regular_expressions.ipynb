{
  "cells": [
    {
      "cell_type": "markdown",
      "metadata": {
        "id": "view-in-github",
        "colab_type": "text"
      },
      "source": [
        "<a href=\"https://colab.research.google.com/github/josephnagel1/NagelJoseph_module1_lectures/blob/main/1_7_introduction_to_regular_expressions.ipynb\" target=\"_parent\"><img src=\"https://colab.research.google.com/assets/colab-badge.svg\" alt=\"Open In Colab\"/></a>"
      ]
    },
    {
      "cell_type": "markdown",
      "metadata": {
        "id": "Mz0l9_a21s2C"
      },
      "source": [
        "## Regular Expressions\n",
        "\n",
        "<img src=\"https://imgs.xkcd.com/comics/regular_expressions.png \" width=400>"
      ]
    },
    {
      "cell_type": "markdown",
      "metadata": {
        "id": "DVmy8TW61s2I"
      },
      "source": [
        "## RegEx Golf\n",
        "\n",
        "<img src=\"https://imgs.xkcd.com/comics/regex_golf.png\" width=600>"
      ]
    },
    {
      "cell_type": "markdown",
      "metadata": {
        "id": "PduwXdYD1s2L"
      },
      "source": [
        "## Perl Problems\n",
        "\n",
        "    Some people, when confronted with a problem, think \"I know, I'll use regular expressions.\" Now they have two problems. - Jamie Zawinski \n",
        "<img src=\"https://imgs.xkcd.com/comics/perl_problems.png\" width=600>"
      ]
    },
    {
      "cell_type": "markdown",
      "metadata": {
        "id": "6dSVn2YB1s2N"
      },
      "source": [
        "## <font color=\"red\"> Exercise 1 </font>\n",
        "\n",
        "**Question:** What do all of these strings have in common?\n",
        "\n",
        "* `\"ab\"`\n",
        "* `\"abab\"`\n",
        "* `\"ababcde\"`\n",
        "* `\"abcde\"`"
      ]
    },
    {
      "cell_type": "markdown",
      "metadata": {
        "id": "taIPoH9T1s2P"
      },
      "source": [
        "> They contain \"ab\""
      ]
    },
    {
      "cell_type": "markdown",
      "metadata": {
        "id": "UHQu23An1s2Q"
      },
      "source": [
        "## <font color=\"red\"> Exercise 2 </font>\n",
        "\n",
        "**Task:** Predict the next three elements of the sequence.\n",
        "\n",
        "* `\"0\"`\n",
        "* `\"1ab\"`\n",
        "* `\"2abab\"`\n",
        "* `\"3ababab\"`\n"
      ]
    },
    {
      "cell_type": "markdown",
      "metadata": {
        "id": "lfADqfjt1s2T"
      },
      "source": [
        "> * \"4abababab\"\n",
        "* \"5ababababab\"\n",
        "* \"6abababababab\""
      ]
    },
    {
      "cell_type": "markdown",
      "metadata": {
        "id": "fucyNoax1s2T"
      },
      "source": [
        "## What is a regular expression\n",
        "\n",
        "* Language for matching regular patterns\n",
        "    * `\"ab\"`\n",
        "    * `\"abab\"`\n",
        "    * `\"ababcde\"`\n",
        "    * `\"abcde\"`\n",
        "* Can't match other, context sensitive, patterns\n",
        "    * `\"0\"`\n",
        "    * `\"1ab\"`\n",
        "    * `\"2abab\"`\n",
        "    * `\"3ababab\"`"
      ]
    },
    {
      "cell_type": "markdown",
      "metadata": {
        "id": "AMlar2oM1s2V"
      },
      "source": [
        "## <font color=\"red\"> Exercise 3 </font>\n",
        "\n",
        "**Tasks:** \n",
        "\n",
        "1. Go to [RegexOne](https://regexone.com/)\n",
        "2. Read the first section\n",
        "3. Define a pattern that matches the first three strings."
      ]
    },
    {
      "cell_type": "code",
      "execution_count": null,
      "metadata": {
        "id": "xfrWcgjN1s2Z"
      },
      "outputs": [],
      "source": [
        "pattern1 = \"abc\""
      ]
    },
    {
      "cell_type": "markdown",
      "metadata": {
        "id": "eNpIMLyb1s2c"
      },
      "source": [
        "## Regular Expressions Workflow in Python\n",
        "\n",
        "* `import re`\n",
        "* Compile a pattern `regex = re.compile(pattern)`\n",
        "    * Use `r\"pattern\"` to avoid escaping symbols\n",
        "* `m = regex.match(some_string)`"
      ]
    },
    {
      "cell_type": "code",
      "execution_count": null,
      "metadata": {
        "id": "m-BuJHtZ1s2d"
      },
      "outputs": [],
      "source": [
        "import re"
      ]
    },
    {
      "cell_type": "code",
      "execution_count": null,
      "metadata": {
        "id": "anxGqv5S1s2e",
        "outputId": "22937ad2-33c3-4234-ad9e-ab1ae63e16d6",
        "colab": {
          "base_uri": "https://localhost:8080/"
        }
      },
      "outputs": [
        {
          "output_type": "execute_result",
          "data": {
            "text/plain": [
              "<re.Match object; span=(0, 2), match='ab'>"
            ]
          },
          "metadata": {},
          "execution_count": 4
        }
      ],
      "source": [
        "pattern = r\"ab\" # r is for raw\n",
        "regex = re.compile(pattern)\n",
        "m1 = regex.match('abc')\n",
        "m1"
      ]
    },
    {
      "cell_type": "markdown",
      "metadata": {
        "id": "k25fckrF1s2f"
      },
      "source": [
        "## `match` returns `None` when there is no match"
      ]
    },
    {
      "cell_type": "code",
      "execution_count": null,
      "metadata": {
        "id": "_bg4ProT1s2f"
      },
      "outputs": [],
      "source": [
        "m2 = regex.match('acb')\n",
        "m2"
      ]
    },
    {
      "cell_type": "code",
      "execution_count": null,
      "metadata": {
        "id": "gVBVmUS71s2g",
        "outputId": "c75d25ff-fe3c-4574-9419-ede665ff364a",
        "colab": {
          "base_uri": "https://localhost:8080/"
        }
      },
      "outputs": [
        {
          "output_type": "execute_result",
          "data": {
            "text/plain": [
              "True"
            ]
          },
          "metadata": {},
          "execution_count": 6
        }
      ],
      "source": [
        "m2 is None"
      ]
    },
    {
      "cell_type": "code",
      "execution_count": null,
      "metadata": {
        "id": "CWzSfvZi1s2h",
        "outputId": "317313de-44ad-4792-857f-9929e274c13b",
        "colab": {
          "base_uri": "https://localhost:8080/"
        }
      },
      "outputs": [
        {
          "output_type": "execute_result",
          "data": {
            "text/plain": [
              "True"
            ]
          },
          "metadata": {},
          "execution_count": 7
        }
      ],
      "source": [
        "not m2 "
      ]
    },
    {
      "cell_type": "markdown",
      "metadata": {
        "id": "Vk1r7pyK1s2h"
      },
      "source": [
        "## The result of a match can be used in Boolean expressions"
      ]
    },
    {
      "cell_type": "code",
      "execution_count": null,
      "metadata": {
        "id": "1zXHXPdh1s2i",
        "outputId": "48f6e504-6e41-41a2-85d9-e610352a775d",
        "colab": {
          "base_uri": "https://localhost:8080/",
          "height": 35
        }
      },
      "outputs": [
        {
          "output_type": "execute_result",
          "data": {
            "text/plain": [
              "'Yes'"
            ],
            "application/vnd.google.colaboratory.intrinsic+json": {
              "type": "string"
            }
          },
          "metadata": {},
          "execution_count": 8
        }
      ],
      "source": [
        "\"Yes\" if m1 else \"No\""
      ]
    },
    {
      "cell_type": "code",
      "execution_count": null,
      "metadata": {
        "id": "V7Kd7NmC1s2i",
        "outputId": "d3d82618-988c-4c6d-b1e5-3fee873b7582",
        "colab": {
          "base_uri": "https://localhost:8080/",
          "height": 35
        }
      },
      "outputs": [
        {
          "output_type": "execute_result",
          "data": {
            "text/plain": [
              "'No'"
            ],
            "application/vnd.google.colaboratory.intrinsic+json": {
              "type": "string"
            }
          },
          "metadata": {},
          "execution_count": 9
        }
      ],
      "source": [
        "\"Yes\" if m2 else \"No\""
      ]
    },
    {
      "cell_type": "markdown",
      "metadata": {
        "id": "stbrosTy1s2j"
      },
      "source": [
        "## <font color=\"red\"> Exercise 4 </font>\n",
        "\n",
        "**Tasks:** Make sure your pattern from <font color=\"red\"> Exercise 3</font> passes the following `assert` statements."
      ]
    },
    {
      "cell_type": "code",
      "execution_count": null,
      "metadata": {
        "id": "0sRKQnB_1s2j"
      },
      "outputs": [],
      "source": [
        "pattern1 = \"abc\"\n",
        "my_regex = re.compile(pattern1)\n",
        "assert my_regex.match('abcdefg')\n",
        "assert my_regex.match('abcde')\n",
        "assert my_regex.match('abc')\n",
        "assert not my_regex.match('acb')"
      ]
    },
    {
      "cell_type": "code",
      "source": [
        "pattern1 = r\"\\d\"\n",
        "my_regex = re.compile(pattern1)\n",
        "assert my_regex.search('abc123xyz')\n",
        "assert my_regex.search('define \"123\"')\n",
        "assert my_regex.search('var g = 123;')\n",
        "#assert not my_regex.match('acb')"
      ],
      "metadata": {
        "id": "nB2B5Ci570cy"
      },
      "execution_count": null,
      "outputs": []
    },
    {
      "cell_type": "code",
      "source": [
        "pattern1 = r\"\\.\"\n",
        "my_regex = re.compile(pattern1)\n",
        "assert my_regex.search('cat.')\n",
        "assert my_regex.search('896.')\n",
        "assert my_regex.search('?=+.')\n",
        "assert not my_regex.match('abc1')"
      ],
      "metadata": {
        "id": "3glMjt2n94Aa"
      },
      "execution_count": null,
      "outputs": []
    },
    {
      "cell_type": "code",
      "source": [
        "pattern1 = r\"[cmf]\"\n",
        "my_regex = re.compile(pattern1)\n",
        "assert my_regex.search('can')\n",
        "assert my_regex.search('man')\n",
        "assert my_regex.search('fan')\n",
        "assert not my_regex.match('dan')\n",
        "assert not my_regex.match('ran')\n",
        "assert not my_regex.match('pan')"
      ],
      "metadata": {
        "id": "4dBuODz0-eno"
      },
      "execution_count": null,
      "outputs": []
    },
    {
      "cell_type": "code",
      "source": [
        "pattern1 = r\"[^bog]\"\n",
        "my_regex = re.compile(pattern1)\n",
        "assert my_regex.search('hog')\n",
        "assert my_regex.search('dog')\n",
        "assert not my_regex.search('bog')"
      ],
      "metadata": {
        "id": "ymdEtm_d_KoX"
      },
      "execution_count": null,
      "outputs": []
    },
    {
      "cell_type": "code",
      "source": [
        "pattern1 = r\"[A-Z]\"\n",
        "my_regex = re.compile(pattern1)\n",
        "assert my_regex.search('Ana')\n",
        "assert my_regex.search('Bob')\n",
        "assert my_regex.search('Cpc')\n",
        "assert not my_regex.match('aax')\n",
        "assert not my_regex.match('bby')\n",
        "assert not my_regex.match('ccz')"
      ],
      "metadata": {
        "id": "q3A0XPzs_i29"
      },
      "execution_count": null,
      "outputs": []
    },
    {
      "cell_type": "code",
      "source": [
        "pattern1 = r\"z{2}\"\n",
        "my_regex = re.compile(pattern1)\n",
        "assert my_regex.search('wazzzzzup')\n",
        "assert my_regex.search('wazzzup')\n",
        "assert not my_regex.search('wazup')"
      ],
      "metadata": {
        "id": "B9DqE6NM__f4"
      },
      "execution_count": null,
      "outputs": []
    },
    {
      "cell_type": "code",
      "source": [
        "pattern1 = r\"[bc]+\"\n",
        "my_regex = re.compile(pattern1)\n",
        "assert my_regex.search('aaaabcc')\n",
        "assert my_regex.search('aabbbbc')\n",
        "assert my_regex.search('aacc')\n",
        "assert not my_regex.search('a')"
      ],
      "metadata": {
        "id": "qcWZmACUAYgm"
      },
      "execution_count": null,
      "outputs": []
    },
    {
      "cell_type": "code",
      "source": [
        "pattern1 = r\"\\?\"\n",
        "my_regex = re.compile(pattern1)\n",
        "assert my_regex.search('1 file found?')\n",
        "assert my_regex.search('2 files found?')\n",
        "assert my_regex.search('24 files found?')\n",
        "assert not my_regex.search('No files found.')"
      ],
      "metadata": {
        "id": "vKq6ws7KA8EM"
      },
      "execution_count": null,
      "outputs": []
    },
    {
      "cell_type": "code",
      "source": [
        "pattern1 = r\"\\s\"\n",
        "my_regex = re.compile(pattern1)\n",
        "assert my_regex.search('1.   abc')\n",
        "assert my_regex.search('2.\tabc')\n",
        "assert my_regex.search('3.           abc')\n",
        "assert not my_regex.search('4.abc')"
      ],
      "metadata": {
        "id": "aADAuimvBXoS"
      },
      "execution_count": null,
      "outputs": []
    },
    {
      "cell_type": "code",
      "source": [
        "pattern1 = r\"^Mission\"\n",
        "my_regex = re.compile(pattern1)\n",
        "assert my_regex.search('Mission: successful')\n",
        "assert not my_regex.search('Last Mission: unsuccessful')\n",
        "assert not my_regex.search('Next Mission: successful upon capture of target')"
      ],
      "metadata": {
        "id": "icQt6IffFLBZ"
      },
      "execution_count": null,
      "outputs": []
    },
    {
      "cell_type": "code",
      "source": [
        "pattern1 = r\"^(file.+)\\.pdf\"\n",
        "my_regex = re.compile(pattern1)\n",
        "assert my_regex.search('file_record_transcript.pdf')\n",
        "assert my_regex.search('file_07241999.pdf')\n",
        "assert not my_regex.search('testfile_fake.pdf.tmp')"
      ],
      "metadata": {
        "id": "4g5PNociGoVZ"
      },
      "execution_count": 61,
      "outputs": []
    },
    {
      "cell_type": "code",
      "source": [
        "pattern1 = r\"(\\w+\\s+(\\d+))\"\n",
        "my_regex = re.compile(pattern1)\n",
        "assert my_regex.search('Jan 1987')\n",
        "assert my_regex.search('May 1969')\n",
        "assert my_regex.search('Aug 2011')"
      ],
      "metadata": {
        "id": "8n4xgdOxFwv6"
      },
      "execution_count": null,
      "outputs": []
    },
    {
      "cell_type": "code",
      "source": [
        "pattern1 = r\"(\\d+)x(\\d+)\"\n",
        "my_regex = re.compile(pattern1)\n",
        "assert my_regex.search('1280x720')\n",
        "assert my_regex.search('1920x1600')\n",
        "assert my_regex.search('1024x768')"
      ],
      "metadata": {
        "id": "4u2uGGMvHlR7"
      },
      "execution_count": null,
      "outputs": []
    },
    {
      "cell_type": "code",
      "source": [
        "pattern1 = r\"I love (cats|dogs)\"\n",
        "my_regex = re.compile(pattern1)\n",
        "assert my_regex.search('I love cats')\n",
        "assert my_regex.search('I love dogs')\n",
        "assert not my_regex.search('I love logs')\n",
        "assert not my_regex.search('I love cogs')"
      ],
      "metadata": {
        "id": "UrMCkWk9IQNi"
      },
      "execution_count": null,
      "outputs": []
    },
    {
      "cell_type": "code",
      "source": [
        "pattern1 = r\"\\s*\"\n",
        "my_regex = re.compile(pattern1)\n",
        "assert my_regex.search('The quick brown fox jumps over the lazy dog.')\n",
        "assert my_regex.search('There were 614 instances of students getting 90.0% or above.')\n",
        "assert my_regex.search('The FCC had to censor the network for saying &$#*@!.')"
      ],
      "metadata": {
        "id": "-el5EaPZIro4"
      },
      "execution_count": null,
      "outputs": []
    },
    {
      "cell_type": "code",
      "source": [
        "help(my_regex.search)"
      ],
      "metadata": {
        "id": "nlD2ME3G8rib",
        "outputId": "fce0986a-b17d-4f59-a832-886098ba2e1b",
        "colab": {
          "base_uri": "https://localhost:8080/"
        }
      },
      "execution_count": null,
      "outputs": [
        {
          "output_type": "stream",
          "name": "stdout",
          "text": [
            "Help on built-in function search:\n",
            "\n",
            "search(string, pos=0, endpos=9223372036854775807) method of re.Pattern instance\n",
            "    Scan through string looking for a match, and return a corresponding match object instance.\n",
            "    \n",
            "    Return None if no position in the string matches.\n",
            "\n"
          ]
        }
      ]
    },
    {
      "cell_type": "code",
      "source": [
        "dir(pattern1)"
      ],
      "metadata": {
        "id": "bPVgmjHJ8_af",
        "outputId": "f5c54bb4-e978-49bc-eac3-326d8889723f",
        "colab": {
          "base_uri": "https://localhost:8080/"
        }
      },
      "execution_count": null,
      "outputs": [
        {
          "output_type": "execute_result",
          "data": {
            "text/plain": [
              "['__add__',\n",
              " '__class__',\n",
              " '__contains__',\n",
              " '__delattr__',\n",
              " '__dir__',\n",
              " '__doc__',\n",
              " '__eq__',\n",
              " '__format__',\n",
              " '__ge__',\n",
              " '__getattribute__',\n",
              " '__getitem__',\n",
              " '__getnewargs__',\n",
              " '__gt__',\n",
              " '__hash__',\n",
              " '__init__',\n",
              " '__init_subclass__',\n",
              " '__iter__',\n",
              " '__le__',\n",
              " '__len__',\n",
              " '__lt__',\n",
              " '__mod__',\n",
              " '__mul__',\n",
              " '__ne__',\n",
              " '__new__',\n",
              " '__reduce__',\n",
              " '__reduce_ex__',\n",
              " '__repr__',\n",
              " '__rmod__',\n",
              " '__rmul__',\n",
              " '__setattr__',\n",
              " '__sizeof__',\n",
              " '__str__',\n",
              " '__subclasshook__',\n",
              " 'capitalize',\n",
              " 'casefold',\n",
              " 'center',\n",
              " 'count',\n",
              " 'encode',\n",
              " 'endswith',\n",
              " 'expandtabs',\n",
              " 'find',\n",
              " 'format',\n",
              " 'format_map',\n",
              " 'index',\n",
              " 'isalnum',\n",
              " 'isalpha',\n",
              " 'isascii',\n",
              " 'isdecimal',\n",
              " 'isdigit',\n",
              " 'isidentifier',\n",
              " 'islower',\n",
              " 'isnumeric',\n",
              " 'isprintable',\n",
              " 'isspace',\n",
              " 'istitle',\n",
              " 'isupper',\n",
              " 'join',\n",
              " 'ljust',\n",
              " 'lower',\n",
              " 'lstrip',\n",
              " 'maketrans',\n",
              " 'partition',\n",
              " 'replace',\n",
              " 'rfind',\n",
              " 'rindex',\n",
              " 'rjust',\n",
              " 'rpartition',\n",
              " 'rsplit',\n",
              " 'rstrip',\n",
              " 'split',\n",
              " 'splitlines',\n",
              " 'startswith',\n",
              " 'strip',\n",
              " 'swapcase',\n",
              " 'title',\n",
              " 'translate',\n",
              " 'upper',\n",
              " 'zfill']"
            ]
          },
          "metadata": {},
          "execution_count": 26
        }
      ]
    },
    {
      "cell_type": "markdown",
      "metadata": {
        "id": "61PR7smk1s2k"
      },
      "source": [
        "## Whitespace and escaped characters\n",
        "\n",
        "* Whitespace includes spaces, tabs, and newlines\n",
        "* Python uses escape characters: `\"\\t\"`, `\"\\n\"`"
      ]
    },
    {
      "cell_type": "markdown",
      "metadata": {
        "id": "ZPPLK7td1s2k"
      },
      "source": [
        "#### Use `\"\\n\"` for newlines"
      ]
    },
    {
      "cell_type": "code",
      "execution_count": null,
      "metadata": {
        "id": "ryzUqiL71s2k",
        "outputId": "9721a65a-d57d-444e-f096-2e1ba08e64b1",
        "colab": {
          "base_uri": "https://localhost:8080/",
          "height": 35
        }
      },
      "outputs": [
        {
          "output_type": "execute_result",
          "data": {
            "text/plain": [
              "'\\n'"
            ],
            "application/vnd.google.colaboratory.intrinsic+json": {
              "type": "string"
            }
          },
          "metadata": {},
          "execution_count": 11
        }
      ],
      "source": [
        "\"\\n\""
      ]
    },
    {
      "cell_type": "code",
      "execution_count": null,
      "metadata": {
        "id": "pPppCitV1s2l",
        "outputId": "e02ccd91-13c3-47fd-8b68-3eeb34d83138",
        "colab": {
          "base_uri": "https://localhost:8080/"
        }
      },
      "outputs": [
        {
          "output_type": "stream",
          "name": "stdout",
          "text": [
            "\n",
            "\n"
          ]
        }
      ],
      "source": [
        "print('\\n')"
      ]
    },
    {
      "cell_type": "code",
      "execution_count": null,
      "metadata": {
        "id": "F7XJp_vx1s2l",
        "outputId": "ad856479-35f3-40b0-db7b-a7549f55b36a",
        "colab": {
          "base_uri": "https://localhost:8080/"
        }
      },
      "outputs": [
        {
          "output_type": "stream",
          "name": "stdout",
          "text": [
            "a\n",
            "b\n"
          ]
        }
      ],
      "source": [
        "print('a\\nb')"
      ]
    },
    {
      "cell_type": "markdown",
      "metadata": {
        "id": "QzjKnEFg1s2l"
      },
      "source": [
        "#### Use `\"\\t\"` for tab"
      ]
    },
    {
      "cell_type": "code",
      "execution_count": null,
      "metadata": {
        "id": "3jUCquWF1s2m",
        "outputId": "d4fbc33b-9fa0-4935-91c8-223a65e0a88f",
        "colab": {
          "base_uri": "https://localhost:8080/",
          "height": 35
        }
      },
      "outputs": [
        {
          "output_type": "execute_result",
          "data": {
            "text/plain": [
              "'\\t'"
            ],
            "application/vnd.google.colaboratory.intrinsic+json": {
              "type": "string"
            }
          },
          "metadata": {},
          "execution_count": 16
        }
      ],
      "source": [
        "\"\\t\""
      ]
    },
    {
      "cell_type": "code",
      "execution_count": null,
      "metadata": {
        "id": "U-ENHge_1s2m",
        "outputId": "8a17d92d-2bf5-4ba2-a53f-cd8f98b3c397",
        "colab": {
          "base_uri": "https://localhost:8080/"
        }
      },
      "outputs": [
        {
          "output_type": "stream",
          "name": "stdout",
          "text": [
            "\t\n"
          ]
        }
      ],
      "source": [
        "print('\\t')"
      ]
    },
    {
      "cell_type": "code",
      "execution_count": null,
      "metadata": {
        "id": "LkD9DtOF1s2n",
        "outputId": "30c94b4c-b3a1-4042-b0e4-8468d43fa7f9",
        "colab": {
          "base_uri": "https://localhost:8080/"
        }
      },
      "outputs": [
        {
          "output_type": "stream",
          "name": "stdout",
          "text": [
            "a\tb\n"
          ]
        }
      ],
      "source": [
        "print('a\\tb')"
      ]
    },
    {
      "cell_type": "markdown",
      "metadata": {
        "id": "H7UGWpcl1s2n"
      },
      "source": [
        "## Why use `r\"raw strings\"` in `regex`\n",
        "\n",
        "* Regular strings $\\rightarrow$ `\\` is for special characters: `'\\n'`, `'\\t'`\n",
        "* In regular expressions, `\\` is for\n",
        "    * Escaping: i.e. `\\.` vs. `.`\n",
        "* Without raw string, we would need \n",
        "    * `'\\\\n'`  to match a new line\n",
        "    * `'\\\\t'` to match a tab"
      ]
    },
    {
      "cell_type": "code",
      "execution_count": null,
      "metadata": {
        "id": "eyzZwzln1s2o",
        "outputId": "79ac1151-c972-4c21-a5cc-2df4eb12e890"
      },
      "outputs": [
        {
          "data": {
            "text/plain": [
              "'\\\\n'"
            ]
          },
          "execution_count": 1,
          "metadata": {},
          "output_type": "execute_result"
        }
      ],
      "source": [
        "r\"\\n\" # Raw string allow us to match newlines without the extra \\"
      ]
    },
    {
      "cell_type": "markdown",
      "metadata": {
        "id": "waaBtbV21s2p"
      },
      "source": [
        "## Important `match object` methods\n",
        "\n",
        "<table class=\"docutils\" border=\"1\">\n",
        "<colgroup>\n",
        "<col width=\"29%\">\n",
        "<col width=\"71%\">\n",
        "</colgroup>\n",
        "<thead valign=\"bottom\">\n",
        "<tr class=\"row-odd\"><th class=\"head\">Method/Attribute</th>\n",
        "<th class=\"head\">Purpose</th>\n",
        "</tr>\n",
        "</thead>\n",
        "<tbody valign=\"top\">\n",
        "<tr class=\"row-even\"><td><code class=\"docutils literal notranslate\"><span class=\"pre\">group()</span></code></td>\n",
        "<td>Return the string matched by the RE</td>\n",
        "</tr>\n",
        "<tr class=\"row-odd\"><td><code class=\"docutils literal notranslate\"><span class=\"pre\">start()</span></code></td>\n",
        "<td>Return the starting position of the match</td>\n",
        "</tr>\n",
        "<tr class=\"row-even\"><td><code class=\"docutils literal notranslate\"><span class=\"pre\">end()</span></code></td>\n",
        "<td>Return the ending position of the match</td>\n",
        "</tr>\n",
        "<tr class=\"row-odd\"><td><code class=\"docutils literal notranslate\"><span class=\"pre\">span()</span></code></td>\n",
        "<td>Return a tuple containing the (start, end)\n",
        "positions  of the match</td>\n",
        "</tr>\n",
        "</tbody>\n",
        "</table>"
      ]
    },
    {
      "cell_type": "code",
      "execution_count": null,
      "metadata": {
        "id": "P6n_fRM11s2q",
        "outputId": "e1fb88fb-66f8-4a0f-8a1b-352317bb1a38"
      },
      "outputs": [
        {
          "data": {
            "text/plain": [
              "'ab'"
            ]
          },
          "execution_count": 74,
          "metadata": {},
          "output_type": "execute_result"
        }
      ],
      "source": [
        "m1.group()"
      ]
    },
    {
      "cell_type": "code",
      "execution_count": null,
      "metadata": {
        "id": "na1GA3NS1s2r",
        "outputId": "125f0489-078b-4de7-ae08-128846ae8998"
      },
      "outputs": [
        {
          "data": {
            "text/plain": [
              "(0, 2)"
            ]
          },
          "execution_count": 75,
          "metadata": {},
          "output_type": "execute_result"
        }
      ],
      "source": [
        "m1.start(), m.end()"
      ]
    },
    {
      "cell_type": "code",
      "execution_count": null,
      "metadata": {
        "id": "UQCcVFOA1s2r",
        "outputId": "87fb10bc-4da1-446e-b36a-f4fe453b43dd"
      },
      "outputs": [
        {
          "data": {
            "text/plain": [
              "(0, 2)"
            ]
          },
          "execution_count": 80,
          "metadata": {},
          "output_type": "execute_result"
        }
      ],
      "source": [
        "m1.span()"
      ]
    },
    {
      "cell_type": "markdown",
      "metadata": {
        "id": "Gz4Y0dt71s2s"
      },
      "source": [
        "## Be sure to check for `None`"
      ]
    },
    {
      "cell_type": "code",
      "execution_count": null,
      "metadata": {
        "id": "xrRq91l-1s2t"
      },
      "outputs": [],
      "source": [
        "m2 # example that DIDN'T match "
      ]
    },
    {
      "cell_type": "code",
      "execution_count": null,
      "metadata": {
        "id": "4p3vjHth1s2t",
        "outputId": "573f05c1-942a-46f2-d647-a6f28e2f31ca"
      },
      "outputs": [
        {
          "data": {
            "text/plain": [
              "True"
            ]
          },
          "execution_count": 18,
          "metadata": {},
          "output_type": "execute_result"
        }
      ],
      "source": [
        "m2 is None # non-matches return None"
      ]
    },
    {
      "cell_type": "code",
      "execution_count": null,
      "metadata": {
        "id": "5uo2tzdw1s2v",
        "outputId": "b84bdbfb-8c15-4322-e5ce-d8b15416fc91"
      },
      "outputs": [
        {
          "ename": "AttributeError",
          "evalue": "'NoneType' object has no attribute 'group'",
          "output_type": "error",
          "traceback": [
            "\u001b[0;31m---------------------------------------------------------------------------\u001b[0m",
            "\u001b[0;31mAttributeError\u001b[0m                            Traceback (most recent call last)",
            "\u001b[0;32m<ipython-input-21-0951bace4a25>\u001b[0m in \u001b[0;36m<module>\u001b[0;34m()\u001b[0m\n\u001b[0;32m----> 1\u001b[0;31m \u001b[0mm2\u001b[0m\u001b[0;34m.\u001b[0m\u001b[0mgroup\u001b[0m\u001b[0;34m(\u001b[0m\u001b[0;34m)\u001b[0m \u001b[0;31m# Oh you silly 'Nonetype' errors\u001b[0m\u001b[0;34m\u001b[0m\u001b[0m\n\u001b[0m",
            "\u001b[0;31mAttributeError\u001b[0m: 'NoneType' object has no attribute 'group'"
          ]
        }
      ],
      "source": [
        "m2.group() # Oh you silly 'Nonetype' errors"
      ]
    },
    {
      "cell_type": "markdown",
      "metadata": {
        "id": "h_6DxW1W1s2w"
      },
      "source": [
        "## Solution 1\n",
        "\n",
        "Always check for `None`"
      ]
    },
    {
      "cell_type": "code",
      "execution_count": null,
      "metadata": {
        "id": "nTd4_rW_1s2w"
      },
      "outputs": [],
      "source": [
        "m2.group() if m2 else None"
      ]
    },
    {
      "cell_type": "markdown",
      "metadata": {
        "id": "6hhIgLcp1s2w"
      },
      "source": [
        "## Solution 2\n",
        "\n",
        "Learn about the [`Maybe` monad](https://en.wikipedia.org/wiki/Monad_(functional_programming)#An_example:_Maybe). (We will tackle this in a later chapter.)"
      ]
    },
    {
      "cell_type": "markdown",
      "metadata": {
        "id": "25Bu_PAn1s2w"
      },
      "source": [
        "## Python regex methods\n",
        "\n",
        "<table class=\"docutils\" border=\"1\">\n",
        "<colgroup>\n",
        "<col width=\"28%\">\n",
        "<col width=\"72%\">\n",
        "</colgroup>\n",
        "<thead valign=\"bottom\">\n",
        "<tr class=\"row-odd\"><th class=\"head\">Method/Attribute</th>\n",
        "<th class=\"head\">Purpose</th>\n",
        "</tr>\n",
        "</thead>\n",
        "<tbody valign=\"top\">\n",
        "<tr class=\"row-even\"><td><code class=\"docutils literal notranslate\"><span class=\"pre\">match()</span></code></td>\n",
        "<td>Determine if the RE matches at the beginning\n",
        "of the string.</td>\n",
        "</tr>\n",
        "<tr class=\"row-odd\"><td><code class=\"docutils literal notranslate\"><span class=\"pre\">search()</span></code></td>\n",
        "<td>Scan through a string, looking for any\n",
        "location where this RE matches.</td>\n",
        "</tr>\n",
        "<tr class=\"row-even\"><td><code class=\"docutils literal notranslate\"><span class=\"pre\">findall()</span></code></td>\n",
        "<td>Find all substrings where the RE matches, and\n",
        "returns them as a list.</td>\n",
        "</tr>\n",
        "<tr class=\"row-odd\"><td><code class=\"docutils literal notranslate\"><span class=\"pre\">finditer()</span></code></td>\n",
        "<td>Find all substrings where the RE matches, and\n",
        "returns them as an <a class=\"reference internal\" href=\"../glossary.html#term-iterator\"><span class=\"xref std std-term\">iterator</span></a>.</td>\n",
        "</tr>\n",
        "</tbody>\n",
        "</table>\n",
        "\n",
        "**Source:** [Python documentation](https://docs.python.org/3/howto/regex.html)"
      ]
    },
    {
      "cell_type": "markdown",
      "metadata": {
        "id": "O-tabMGN1s2w"
      },
      "source": [
        "## A better `str.replace`\n",
        "\n",
        "* Often chain many `replace` calls\n",
        "* Example `s.replace('(', '').replace(')','').replace(':', '')`\n",
        "* We can use `re.sub` to simplify."
      ]
    },
    {
      "cell_type": "code",
      "execution_count": null,
      "metadata": {
        "id": "6bUeuBzT1s2w",
        "outputId": "032de8b9-285e-434f-af5f-06a4f03e95fc"
      },
      "outputs": [
        {
          "data": {
            "text/plain": [
              "'The string has some things in it'"
            ]
          },
          "execution_count": 7,
          "metadata": {},
          "output_type": "execute_result"
        }
      ],
      "source": [
        "s = \"The string (has) some: things in (it)\"\n",
        "s.replace('(', '').replace(')','').replace(':', '')"
      ]
    },
    {
      "cell_type": "code",
      "execution_count": null,
      "metadata": {
        "id": "755nr2CD1s2w",
        "outputId": "2e4b02ef-cdc4-473d-fe2a-b2472dc79825"
      },
      "outputs": [
        {
          "data": {
            "text/plain": [
              "'The string has some things in it'"
            ]
          },
          "execution_count": 8,
          "metadata": {},
          "output_type": "execute_result"
        }
      ],
      "source": [
        "re.sub(r\"[():]\", '', s)"
      ]
    },
    {
      "cell_type": "markdown",
      "metadata": {
        "id": "Kp7zs7d31s2w"
      },
      "source": [
        "## Substitutions with a compiled RegEx\n",
        "\n",
        "1. Compile a pattern\n",
        "2. Use `pat.sub(new_substr, s)`"
      ]
    },
    {
      "cell_type": "code",
      "execution_count": null,
      "metadata": {
        "id": "NBtgNuys1s2x",
        "outputId": "73bff510-0900-4624-9419-a756809de8d6"
      },
      "outputs": [
        {
          "data": {
            "text/plain": [
              "'The string has some things in it'"
            ]
          },
          "execution_count": 9,
          "metadata": {},
          "output_type": "execute_result"
        }
      ],
      "source": [
        "paren_or_colon = re.compile(r\"[():]\")\n",
        "paren_or_colon.sub('', s)"
      ]
    },
    {
      "cell_type": "markdown",
      "metadata": {
        "id": "BfbKYErB1s2y"
      },
      "source": [
        "## <font color=\"red\"> Exercise 4 </font>\n",
        "\n",
        "**Task:** Write and test a function that uses `re.sub` to remove all punctuation from a string.  **Hint:** Use the `punctuation` variable from the `string` module."
      ]
    },
    {
      "cell_type": "code",
      "execution_count": 60,
      "metadata": {
        "id": "QK3IKiDN1s2z",
        "colab": {
          "base_uri": "https://localhost:8080/",
          "height": 35
        },
        "outputId": "1175ad54-f5d4-4e5c-90ee-6b50ed0516fd"
      },
      "outputs": [
        {
          "output_type": "execute_result",
          "data": {
            "text/plain": [
              "'This string has some odd punctuation'"
            ],
            "application/vnd.google.colaboratory.intrinsic+json": {
              "type": "string"
            }
          },
          "metadata": {},
          "execution_count": 60
        }
      ],
      "source": [
        "import string\n",
        "\n",
        "s = \"This string. has! some odd, punctuation?\"\n",
        "\n",
        "re.sub(r\"[!#$%&'()*+,-./:;<=>?@[\\]^_`{|}~]\", '',s)\n"
      ]
    },
    {
      "cell_type": "markdown",
      "metadata": {
        "id": "2_NSM9l41s2z"
      },
      "source": [
        "## Next Up\n",
        "\n",
        "Now you should read through the rest of [RegExOne](https://regexone.com/) and put your work in [Lab 3](./lab_3_regexone.ipynb)."
      ]
    }
  ],
  "metadata": {
    "celltoolbar": "Slideshow",
    "kernelspec": {
      "display_name": "Python 3",
      "language": "python",
      "name": "python3"
    },
    "language_info": {
      "codemirror_mode": {
        "name": "ipython",
        "version": 3
      },
      "file_extension": ".py",
      "mimetype": "text/x-python",
      "name": "python",
      "nbconvert_exporter": "python",
      "pygments_lexer": "ipython3",
      "version": "3.7.2"
    },
    "varInspector": {
      "cols": {
        "lenName": 16,
        "lenType": 16,
        "lenVar": 40
      },
      "kernels_config": {
        "python": {
          "delete_cmd_postfix": "",
          "delete_cmd_prefix": "del ",
          "library": "var_list.py",
          "varRefreshCmd": "print(var_dic_list())"
        },
        "r": {
          "delete_cmd_postfix": ") ",
          "delete_cmd_prefix": "rm(",
          "library": "var_list.r",
          "varRefreshCmd": "cat(var_dic_list()) "
        }
      },
      "types_to_exclude": [
        "module",
        "function",
        "builtin_function_or_method",
        "instance",
        "_Feature"
      ],
      "window_display": false
    },
    "colab": {
      "provenance": [],
      "include_colab_link": true
    }
  },
  "nbformat": 4,
  "nbformat_minor": 0
}